{
 "cells": [
  {
   "cell_type": "markdown",
   "metadata": {
    "heading_collapsed": true
   },
   "source": [
    "## 1.1 HTTP 基本原理"
   ]
  },
  {
   "cell_type": "markdown",
   "metadata": {
    "hidden": true
   },
   "source": [
    "&emsp;&emsp;HTTP（超文本传输协议，HyperText Transfer Protocol）是一套计算机通过网络进行通信的规则，使 HTTP 客户端能够从 HTTP 服务器请求信息和服务。在了解 HTTP 之前，先简单了解一下 URI（统一资源标志符，UniformResource Identifier） 和 URL（统一资源定位符，UniformResource Identifier）。"
   ]
  },
  {
   "cell_type": "markdown",
   "metadata": {
    "hidden": true
   },
   "source": [
    "### 1.1.1 URI 和 URL"
   ]
  },
  {
   "cell_type": "markdown",
   "metadata": {
    "hidden": true
   },
   "source": [
    "&emsp;&emsp;URI/URL 是用于指定资源的唯一访问方式，如全球最大同性交友网站 GayHub 的网站图标链接 `https://github.com/favicon.ico`，就是一个 URI/URL，包含了GayHub 网站图标的访问协议 `https`、访问路径（即根目录）以及资源名称 `favicon.ico`。通过该 URI/URL，我们可以轻易地访问到 GayHub 网站图标的资源。\n",
    "\n",
    "&emsp;&emsp;URL 是 URI 的子集，URI 还包含着 URN（统一资源名称，Universal Resource Name），但 URN 只用于命名资源而不指定如何定位资源。一般接触到的网页链接都可以称为 URI/URL，而习惯上一般都称为 URL。"
   ]
  },
  {
   "cell_type": "markdown",
   "metadata": {
    "hidden": true
   },
   "source": [
    "### 1.1.2 超文本"
   ]
  },
  {
   "cell_type": "markdown",
   "metadata": {
    "hidden": true
   },
   "source": [
    "&emsp;&emsp;超文本（Hypertext）是用超链接的方法，将各种不同空间的文字信息组织在一起的网状文本。在浏览器里面看到的网页就是超文本解析而成的，其网页源代码是一系列 HTML（超文本标记语言，HyperText Markup Language） 代码，里面包含了一系列标签，浏览器解析这些标签后便形成了网页。"
   ]
  },
  {
   "cell_type": "markdown",
   "metadata": {
    "hidden": true
   },
   "source": [
    "### 1.1.3 HTTP 和 HTTPS"
   ]
  },
  {
   "cell_type": "markdown",
   "metadata": {
    "hidden": true
   },
   "source": [
    "&emsp;&emsp;HTTP 以明文方式发送内容，不提供任何方式的数据加密，不适用于传输一些敏感信息。而 HTTPS 则在 HTTP 的基础上加入了 SSL（安全套接层，Secure Socket Layer），SSL 依靠证书来验证服务器的身份，并为浏览器和服务器之间的通信加密，从而弥补了 HTTP 明文传输的缺陷。"
   ]
  },
  {
   "cell_type": "markdown",
   "metadata": {
    "hidden": true
   },
   "source": [
    "### 1.1.4 HTTP 请求过程"
   ]
  },
  {
   "cell_type": "markdown",
   "metadata": {
    "hidden": true
   },
   "source": [
    "&emsp;&emsp;这里只对 HTTP 的请求过程进行简单的概括：\n",
    "1. 通过对 URL 进行解析，获得实际访问的 IP 地址；\n",
    "2. 发起 TCP 3 次握手；\n",
    "3. 建立 TCP 连接后发起 HTTP 请求；\n",
    "4. 服务器端响应 HTTP 请求，浏览器得到 HTML 代码；\n",
    "5. 浏览器解析 HTML 代码，并请求 HTML 代码中的资源 ；\n",
    "6. 浏览器对页面进行渲染呈现给用户。\n",
    "\n",
    "&emsp;&emsp;接下来将对发起 HTTP 请求和服务器响应 HTTP 请求进行简要介绍。"
   ]
  },
  {
   "cell_type": "markdown",
   "metadata": {
    "hidden": true
   },
   "source": [
    "### 1.1.5 请求"
   ]
  },
  {
   "cell_type": "markdown",
   "metadata": {
    "hidden": true
   },
   "source": [
    "&emsp;&emsp;由客户端向服务器发起 HTTP 请求（HTTP Request），可分为 4 部分：请求方法、请求网址、请求头、请求体。\n",
    "\n",
    "**1. 请求方法（Request Method）**\n",
    "\n",
    "&emsp;&emsp;主要有两种：GET 和 POST。\n",
    "&emsp;&emsp;GET 方法将请求中的参数包含在 URL 中，且提交的数据最多只有 1024 字节。而 POST 的请求参数在请求体的表单中，且提交数据没有长度限制。一般来说，需要向服务器提交敏感信息（如账号和密码）的时候，不适宜用 GET 方法（会暴露在 URL），而该用 POST。\n",
    "\n",
    "**2. 请求网址（Request URL）**\n",
    "\n",
    "&emsp;&emsp;即 URL，唯一确定要请求的资源。\n",
    "\n",
    "**3. 请求头（Request Headers）**\n",
    "\n",
    "&emsp;&emsp;用于说明服务器要使用的附加信息，下面是一些常用的头信息：\n",
    "- Accept：指定客户端可接受哪些类型的信息；\n",
    "- Accept-Language：指定客户端可接受的语言类型；\n",
    "- Accept-Encoding：指定客户端可接受的内容编码；\n",
    "- Host：指定请求资源的主机 IP 和端口号；\n",
    "- Cookie：网站为了辨别用户进行会话追踪而存储在本地的数据；\n",
    "- Referer：标识请求由哪个页面发起；\n",
    "- User-Agent：使服务器识别客户使用的操作系统及版本、浏览器及版本等信息；\n",
    "- Content-Type：表示请求中的数据类型。\n",
    "\n",
    "**4. 请求体（Request Body）**\n",
    "\n",
    "&emsp;&emsp;一般用于承载 Post 请求中的表单数据。"
   ]
  },
  {
   "cell_type": "markdown",
   "metadata": {
    "hidden": true
   },
   "source": [
    "### 1.1.6 响应"
   ]
  },
  {
   "cell_type": "markdown",
   "metadata": {
    "hidden": true
   },
   "source": [
    "&emsp;&emsp;服务器收到 HTTP 请求后，会根据请求信息进行相应的处理，然后返回一个 HTTP 响应（HTTP Response）给客户端，由 3 部分组成：响应状态码、响应头、响应体。\n",
    "\n",
    "**1. 响应状态码（Response Status Code）**\n",
    "\n",
    "&emsp;&emsp;表示服务器的响应状态，常见的状态码如下：\n",
    "- 200：服务器已成功处理请求；\n",
    "- 204：服务器成功处理了请求，但没有返回任何内容；\n",
    "- 206：服务器成功处理了部分请求，返回了部分内容；\n",
    "- 301：永久重定向；\n",
    "- 302：临时重定向；\n",
    "- 303：应使用 GET 方法定向获取请求资源；\n",
    "- 304：此次请求返回的网页未修改，继续使用上次的资源；\n",
    "- 307：请求的资源临时从其他位置响应；\n",
    "- 400：服务器无法解析该请求；\n",
    "- 401：请求没有进行身份验证或验证未通过；\n",
    "- 403：服务器禁止访问；\n",
    "- 404：服务器找不到请求的资源；\n",
    "- 500：服务器内部错误；\n",
    "- 503：服务器目前无法使用。\n",
    "\n",
    "**2. 响应头（Response Headers）**\n",
    "\n",
    "&emsp;&emsp;包含了服务器对请求的应答信息，下面是一些常用的头信息：\n",
    "- Date：标识响应产生的时间；\n",
    "- Last-Modified：指定资源的最后修改时间；\n",
    "- Content-Encoding：指定响应内容的编码；\n",
    "- Server：包含服务器信息；\n",
    "- Content-Type：指定返回的数据类型是什么；\n",
    "- Set-Cookie：设置 Cookie；\n",
    "- Exipres：指定响应的过期时间。\n",
    "\n",
    "**3. 响应体（Response Body）**\n",
    "\n",
    "&emsp;&emsp;响应的正文数据，是响应中最重要的部分。"
   ]
  },
  {
   "cell_type": "markdown",
   "metadata": {
    "heading_collapsed": true
   },
   "source": [
    "## 1.2 网页基础"
   ]
  },
  {
   "cell_type": "markdown",
   "metadata": {
    "hidden": true
   },
   "source": [
    "### 1.2.1 网页的组成"
   ]
  },
  {
   "cell_type": "markdown",
   "metadata": {
    "hidden": true
   },
   "source": [
    "&emsp;&emsp;一般来说，网页可分为 3 部分：\n",
    "\n",
    "**1. HTML（Hyper Text Markup Language）**\n",
    "\n",
    "&emsp;&emsp;即超文本标记语言，是网页的基础。其以各种类型的标签来表示网页上的各种元素，而各种 HTML 标签定义的节点元素相互嵌套和组合，构成了复杂的层次关系，从而形成了网页的架构。\n",
    "\n",
    "**2. CSS（Cascading Style Sheets）**\n",
    "\n",
    "&emsp;&emsp;即层叠样式表，它定义了网页的布局和样式。\n",
    "\n",
    "**3. JavaScript**\n",
    "\n",
    "&emsp;&emsp;一种脚本语言，定义了网页的行为。"
   ]
  },
  {
   "cell_type": "markdown",
   "metadata": {
    "hidden": true
   },
   "source": [
    "### 1.2.2 网页的结构"
   ]
  },
  {
   "cell_type": "markdown",
   "metadata": {
    "hidden": true
   },
   "source": [
    "&emsp;&emsp;下面是一个简单的 HTML 实例：\n",
    "\n",
    "``` HTML\n",
    "<!DOCTYPE html>\n",
    "<html>\n",
    "    <head>\n",
    "        <meta charset=\"UTF-8\">\n",
    "        <title>Dark Side Of The Moon</title>\n",
    "    </head>\n",
    "    <body>\n",
    "        <div id=\"container\">\n",
    "            <div class=\"content\">\n",
    "                <h2 class=\"title\">Breathe</h2>\n",
    "                <p class=\"text\">Breathe, breathe in the air</p>\n",
    "            </div>\n",
    "        </div>\n",
    "    </body>\n",
    "</html>\n",
    "```"
   ]
  },
  {
   "cell_type": "markdown",
   "metadata": {
    "hidden": true
   },
   "source": [
    "&emsp;&emsp;在该实例的开头，用 `DOCTYPE` 定义了文档类型。其次是最外层的 `html` 标签（末尾有其对应的结束标签表示闭合），其内部是 `head` 和 `body` 标签，分别代表网页头和网页体（它们也有对应的结束标签）。在 `head` 标签内，定义了页面的配置和引用，如 `<meta charset=\"UTF-8\">` 指定网页的编码为 `UTF-8`，而 `title` 标签则定义了网页的标题。`body` 标签里则是网页正文中显示的内容，其中有两个 `div` 标签，其中一个的 `id` 是 `container`（id 在网页中是唯一的，可以通过它来获取该区块），这个 `div` 中嵌套了另一个 `div`，其 `class` 为 `wrapper`（class 常用于与 CSS 配合使用来设定样式）。最后，嵌套内的 `div` 下还有则 `h2` 和 `p` 标签，分别代表着一个二级标题和一个段落。 "
   ]
  },
  {
   "cell_type": "markdown",
   "metadata": {
    "hidden": true
   },
   "source": [
    "### 1.2.3 节点树与节点间的关系"
   ]
  },
  {
   "cell_type": "markdown",
   "metadata": {
    "hidden": true
   },
   "source": [
    "&emsp;&emsp;根据 W3C 的 HTML DOM（文档对象模型，Document Object Model） 标准，HTML 文档中的所有内容都是节点，它们共同构成了一个节点树：\n",
    "- 整个文档是一个文档节点；\n",
    "- 每个 HTML 元素是元素节点；\n",
    "- HTML 元素内的文本是文本节点；\n",
    "- 每个 HTML 属性是属性节点；\n",
    "- 注释是注释节点。\n",
    "\n",
    "&emsp;&emsp;通过 HTML DOM，树中的所有节点均可以通过 JavaScript 访问，所有 HTML 节点元素均可被创建、修改、删除。节点树中的节点彼此间拥有层级关系，其顶端节点称为根，除了根节点之外，每个节点都有父节点，同时可拥有任意数量的子节点或兄弟节点。"
   ]
  },
  {
   "cell_type": "markdown",
   "metadata": {
    "hidden": true
   },
   "source": [
    "### 1.2.4 CSS 选择器"
   ]
  },
  {
   "cell_type": "markdown",
   "metadata": {
    "hidden": true
   },
   "source": [
    "&emsp;&emsp;在 CSS 中，通过 CSS 选择器来定位节点，例如 2.2.2 中 `id` 为 `container` 的 `div` 标签，就可以通过 `#container` 来选择，其语法规则有：\n",
    "\n",
    "选择器 | 示例 | 描述\n",
    "--|--|--\n",
    ".class | .wrapper | 选择 class=\"wrapper\" 的所有元素\n",
    "#id | #container | 选择 id=\"container\" 的所有元素\n",
    "* | * | 选择所有元素\n",
    "element | p | 选择所有 p 元素\n",
    "element, element | div, h2 | 选择所有 div 元素和所有 p 元素\n",
    "element element | div, h2 | 选择 div 元素内部所有 p 元素\n",
    "element > element | div>h2 | 选择父元素为 div 元素的所有 p 元素\n",
    "element + element | div+h2 | 选择紧邻 div 元素的所有 p 元素\n",
    "[attribute] | [target] | 选择带有 target 属性所有元素\n",
    "[attribute=value] | [target=_blank] | 选择 target=\"_blank\" 的所有元素\n",
    "[attribute~=value] | [title~=flower] | 选择 title 属性包含单词 \"flower\" 的所有元素\n",
    ":link | a:link | 选择所有未被访问的链接\n",
    ":visited | a:visited | 选择所有已被访问的链接\n",
    ":active | a:active | 选择活动链接\n",
    ":hover | a:hover | 选择鼠标指针位于其上的链接\n",
    ":focus | input:focus | 选择获得焦点的 input 元素\n",
    ":first-letter | p:first-letter | 选择每个 p 元素的首字母\n",
    ":first-line | p:first-line | 选择每个 p 元素的首行\n",
    ":first-child | p:first-child | 选择属于父元素的第一个子元素的每个 p 元素\n",
    ":before | p:before | 在每个 p 元素的内容之前插入内容\n",
    ":after | p:after | 在每个 p 元素的内容之后插入内容\n",
    ":lang(language) | p:lang(it) | 选择带有以 \"it\" 开头的 lang 属性值的每个 p 元素\n",
    "element1~element2 | p~ul | 选择前面有 p 元素的每个 ul 元素\n",
    ":first-of-type | p:first-of-type | 选择属于其父元素的首个 p 元素的每个 p 元素\n",
    ":last-of-type | p:last-of-type | 选择属于其父元素的最后 p 元素的每个 p 元素\n",
    ":only-of-type | p:only-of-type | 选择属于其父元素唯一的 p 元素的每个 p 元素\n",
    ":only-child | p:only-child | 选择属于其父元素的唯一子元素的每个 p 元素\n",
    ":nth-child(n) | p:nth-child(2) | 选择属于其父元素的第二个子元素的每个 p 元素\n",
    ":nth-last-child(n) | p:nth-last-child(2) | 同上，从最后一个子元素开始计数\n",
    ":nth-of-type(n) | p:nth-of-type(2) | 选择属于其父元素第二个 p 元素的每个 p 元素\n",
    ":nth-last-of-type(n) | p:nth-last-of-type(2) | 同上，但是从最后一个子元素开始计数\n",
    ":last-child | p:last-child | 选择属于其父元素最后一个子元素每个 p 元素\n",
    ":root | :root | 选择文档的根元素\n",
    ":empty | p:empty | 选择没有子元素的每个 p 元素（包括文本节点）\n",
    ":target | #news:target | 选择当前活动的 #news 元素\n",
    ":enabled | input:enabled | 选择每个启用的 input 元素\n",
    ":disabled | input:disabled | 选择每个禁用的 input 元素\n",
    ":checked | input:checked | 选择每个被选中的 input 元素\n",
    ":not(selector) | :not(p) | 选择非 p 元素的每个元素\n",
    "::selection | ::selection | 选择被用户选取的元素部分\n",
    "\n",
    "> CSS 选择器还支持多重嵌套选择， 如 `#container .wrapper p`"
   ]
  },
  {
   "cell_type": "markdown",
   "metadata": {
    "heading_collapsed": true
   },
   "source": [
    "## 1.3 爬虫概述"
   ]
  },
  {
   "cell_type": "markdown",
   "metadata": {
    "hidden": true
   },
   "source": [
    "&emsp;&emsp;爬虫可以将网页上各种各样的信息抓取下来，一般是 HTML 源代码或者 JSON，也有各种的二进制数据（如图片、视频、音频），以及各种扩展名的文件（如 CSS、JavaScript 文件）。爬取上述信息后，还会对其进行提取和存储，为进一步释放爬虫数据的价值做准备。下面简单介绍下这 3 个步骤：\n",
    "\n",
    "**1. 获取网页**\n",
    "\n",
    "&emsp;&emsp;爬虫第一步就是获取网页，这里一般获取的是网页的源代码或者 JSON。通过 Python 的 urllib 或 request 库向网站发送 HTTP 请求，返回的响应体便是需要获取的信息。\n",
    "\n",
    "**2. 提取信息**\n",
    "\n",
    "&emsp;&emsp;获取网页源代码或 JSON 之后，需要通过 BeautifulSoup、lxml、pyquery 等库，根据网页的节点属性、CSS 选择器或者 XPath 来提取网页信息。\n",
    "\n",
    "**3. 保存数据**\n",
    "\n",
    "&emsp;&emsp;在提取信息后，将数据保存成 CSV、JSON，或者保存到数据库（如 MySQL、SQLite、MongoDB）。"
   ]
  },
  {
   "cell_type": "markdown",
   "metadata": {
    "heading_collapsed": true
   },
   "source": [
    "## 1.4 JavaScript 渲染"
   ]
  },
  {
   "cell_type": "markdown",
   "metadata": {
    "hidden": true
   },
   "source": [
    "&emsp;&emsp;现代网页技术越来越多的采用 Ajax、前端模块化工具来构建，甚至整个网页都是由 JavaScript 渲染出来的。这导致通过 urllib 或 request 抓取网页时，可能与在浏览器中看到的不一样。因为 JavaScript 渲染后的页面，其 HTML 节点可能会被改变以向其添加内容，而 urllib 或 request 请求时，只获取到了未经渲染的 HTML。针对这种情况，需要分析其 Ajax 接口，或者使用 Selenium 等库来实现模拟 JavaScript 渲染。"
   ]
  },
  {
   "cell_type": "markdown",
   "metadata": {},
   "source": [
    "## 1.5 会话和 Cookie"
   ]
  },
  {
   "cell_type": "markdown",
   "metadata": {},
   "source": [
    "&emsp;&emsp;会话（Session）是一种保存上下文信息的机制，在 Web 中，会话对象用于存储特定用户会话所需的属性及配置信息。比如购物车，当点击下单按钮时，由于 HTTP 协议无状态，服务端并不知道具体是哪个用户操作的，因此为特定的用户创建了特定的 Session，用于标识并且跟踪这个用户，这样才知道他的购物车里面有几本书。而 Session 是保存在服务端的，这使得客户端需要通过 Cookie（存储在客户端上） 进行会话跟踪。当 Session 第一次被创建时，服务端会在 HTTP 协议中告知客户端，需要在 Cookie 里记录一个 Session ID，以后每次请求把这个 ID 发送到服务器，以识别用户。Cookie 分为会话 Cookie 和 持久 Cookie，前者保存在浏览器内存中，后者保存在客户端的硬盘中。\n",
    "\n",
    "> 当 Cookie 被禁用时，还会使用一种叫做 URL 重写的技术来进行会话跟踪，即每次 HTTP 交互，URL 后附加上一个诸如 sid=xxxxx 这样的参数，服务端据此来识别用户。"
   ]
  }
 ],
 "metadata": {
  "hide_input": false,
  "kernelspec": {
   "display_name": "Python 3",
   "language": "python",
   "name": "python3"
  },
  "language_info": {
   "codemirror_mode": {
    "name": "ipython",
    "version": 3
   },
   "file_extension": ".py",
   "mimetype": "text/x-python",
   "name": "python",
   "nbconvert_exporter": "python",
   "pygments_lexer": "ipython3",
   "version": "3.7.1"
  }
 },
 "nbformat": 4,
 "nbformat_minor": 2
}

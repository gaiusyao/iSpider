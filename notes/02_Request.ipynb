{
 "cells": [
  {
   "cell_type": "markdown",
   "metadata": {},
   "source": [
    "## 2.1 urllib"
   ]
  },
  {
   "cell_type": "code",
   "execution_count": 1,
   "metadata": {},
   "outputs": [],
   "source": [
    "import socket\n",
    "from urllib import request\n",
    "from urllib import parse\n",
    "from urllib import error"
   ]
  },
  {
   "cell_type": "code",
   "execution_count": 2,
   "metadata": {},
   "outputs": [
    {
     "name": "stdout",
     "output_type": "stream",
     "text": [
      "Status: 200 OK\n",
      "Date: Mon, 05 Nov 2018 05:02:06 GMT\n",
      "Content-Type: application/json; charset=utf-8\n",
      "Content-Length: 1179\n",
      "Connection: close\n",
      "Vary: Accept-Encoding\n",
      "X-Ratelimit-Remaining2: 99\n",
      "X-Ratelimit-Limit2: 100\n",
      "Expires: Sun, 1 Jan 2006 01:00:00 GMT\n",
      "Pragma: no-cache\n",
      "Cache-Control: must-revalidate, no-cache, private\n",
      "Set-Cookie: bid=G9T75uKFgJ8; Expires=Tue, 05-Nov-19 05:02:06 GMT; Domain=.douban.com; Path=/\n",
      "X-DOUBAN-NEWBID: G9T75uKFgJ8\n",
      "X-DAE-Node: anson13\n",
      "X-DAE-App: book\n",
      "Server: dae\n",
      "X-Frame-Options: SAMEORIGIN\n",
      "Data:\n",
      " {\"rating\":{\"max\":10,\"numRaters\":158,\"average\":\"9.3\",\"min\":0},\"subtitle\":\"一卷本\",\"pubdate\":\"1962\",\"image\":\"https://img3.doubanio.com\\/view\\/subject\\/m\\/public\\/s3254653.jpg\",\"binding\":\"精装\",\"images\":{\"small\":\"https://img3.doubanio.com\\/view\\/subject\\/s\\/public\\/s3254653.jpg\",\"large\":\"https://img3.doubanio.com\\/view\\/subject\\/l\\/public\\/s3254653.jpg\",\"medium\":\"https://img3.doubanio.com\\/view\\/subject\\/m\\/public\\/s3254653.jpg\"},\"alt\":\"https:\\/\\/book.douban.com\\/subject\\/2224879\\/\",\"id\":\"2224879\",\"title\":\"毛泽东选集\",\"author_intro\":\"\",\"tags\":[{\"count\":155,\"name\":\"毛泽东\",\"title\":\"毛泽东\"},{\"count\":83,\"name\":\"思维\",\"title\":\"思维\"},{\"count\":80,\"name\":\"政治\",\"title\":\"政治\"},{\"count\":68,\"name\":\"策略\",\"title\":\"策略\"},{\"count\":59,\"name\":\"战略\",\"title\":\"战略\"},{\"count\":52,\"name\":\"历史\",\"title\":\"历史\"},{\"count\":43,\"name\":\"毛选\",\"title\":\"毛选\"},{\"count\":36,\"name\":\"社会科学\",\"title\":\"社会科学\"}],\"origin_title\":\"\",\"price\":\"6.8元\",\"translator\":[],\"catalog\":\"\",\"pages\":\"1520\",\"publisher\":\"人民出版社\",\"isbn10\":\"SH1001-574\",\"alt_title\":\"\",\"url\":\"https:\\/\\/api.douban.com\\/v2\\/book\\/2224879\",\"author\":[\"毛泽东\"],\"summary\":\"\"}\n"
     ]
    }
   ],
   "source": [
    "with request.urlopen('https://api.douban.com/v2/book/2224879') as f:\n",
    "    data = f.read()\n",
    "    print('Status: {0} {1}'.format(f.status, f.reason))\n",
    "    for k, v in f.getheaders():\n",
    "        print('{0}: {1}'.format(k, v))\n",
    "    print('Data:\\n', data.decode('utf-8'))"
   ]
  },
  {
   "cell_type": "markdown",
   "metadata": {},
   "source": [
    "`requeset.urlopen(url,data,timeout)`\n",
    "\n",
    "`requeset.read()`"
   ]
  },
  {
   "cell_type": "code",
   "execution_count": 3,
   "metadata": {},
   "outputs": [
    {
     "name": "stdout",
     "output_type": "stream",
     "text": [
      "b'word=hello'\n"
     ]
    }
   ],
   "source": [
    "data = bytes(parse.urlencode({'word': 'hello'}), encoding='utf8')\n",
    "print(data)"
   ]
  },
  {
   "cell_type": "code",
   "execution_count": 4,
   "metadata": {},
   "outputs": [
    {
     "name": "stdout",
     "output_type": "stream",
     "text": [
      "{\n",
      "  \"args\": {}, \n",
      "  \"data\": \"\", \n",
      "  \"files\": {}, \n",
      "  \"form\": {\n",
      "    \"word\": \"hello\"\n",
      "  }, \n",
      "  \"headers\": {\n",
      "    \"Accept-Encoding\": \"identity\", \n",
      "    \"Connection\": \"close\", \n",
      "    \"Content-Length\": \"10\", \n",
      "    \"Content-Type\": \"application/x-www-form-urlencoded\", \n",
      "    \"Host\": \"httpbin.org\", \n",
      "    \"User-Agent\": \"Python-urllib/3.7\"\n",
      "  }, \n",
      "  \"json\": null, \n",
      "  \"origin\": \"116.22.135.73\", \n",
      "  \"url\": \"http://httpbin.org/post\"\n",
      "}\n",
      "\n"
     ]
    }
   ],
   "source": [
    "response = request.urlopen('http://httpbin.org/post', data=data)\n",
    "print(response.read().decode('utf-8'))"
   ]
  },
  {
   "cell_type": "code",
   "execution_count": 5,
   "metadata": {},
   "outputs": [
    {
     "name": "stdout",
     "output_type": "stream",
     "text": [
      "{\n",
      "  \"args\": {}, \n",
      "  \"headers\": {\n",
      "    \"Accept-Encoding\": \"identity\", \n",
      "    \"Connection\": \"close\", \n",
      "    \"Host\": \"httpbin.org\", \n",
      "    \"User-Agent\": \"Python-urllib/3.7\"\n",
      "  }, \n",
      "  \"origin\": \"116.22.135.73\", \n",
      "  \"url\": \"http://httpbin.org/get\"\n",
      "}\n",
      "\n"
     ]
    }
   ],
   "source": [
    "response = request.urlopen('http://httpbin.org/get', timeout=1)\n",
    "print(response.read().decode('utf-8'))"
   ]
  },
  {
   "cell_type": "code",
   "execution_count": 6,
   "metadata": {},
   "outputs": [
    {
     "name": "stdout",
     "output_type": "stream",
     "text": [
      "TIME OUT\n"
     ]
    }
   ],
   "source": [
    "try:\n",
    "    response = request.urlopen('http://httpbin.org/get', timeout=0.1)\n",
    "    print(response.read().decode('utf-8'))\n",
    "except error.URLError as e:\n",
    "    if isinstance(e.reason, socket.timeout):\n",
    "        print('TIME OUT')"
   ]
  },
  {
   "cell_type": "code",
   "execution_count": null,
   "metadata": {},
   "outputs": [],
   "source": []
  }
 ],
 "metadata": {
  "hide_input": false,
  "kernelspec": {
   "display_name": "Python 3",
   "language": "python",
   "name": "python3"
  },
  "language_info": {
   "codemirror_mode": {
    "name": "ipython",
    "version": 3
   },
   "file_extension": ".py",
   "mimetype": "text/x-python",
   "name": "python",
   "nbconvert_exporter": "python",
   "pygments_lexer": "ipython3",
   "version": "3.7.1"
  }
 },
 "nbformat": 4,
 "nbformat_minor": 2
}

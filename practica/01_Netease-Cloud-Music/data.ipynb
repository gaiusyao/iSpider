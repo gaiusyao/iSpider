{
 "cells": [
  {
   "cell_type": "code",
   "execution_count": 1,
   "metadata": {},
   "outputs": [],
   "source": [
    "import numpy as np\n",
    "import pandas as pd\n",
    "import sqlite3\n",
    "\n",
    "import matplotlib.pyplot as plt\n",
    "plt.style.use('ggplot')\n",
    "plt.rcParams['font.sans-serif'] = ['Microsoft YaHei']\n",
    "plt.rcParams['axes.unicode_minus'] = False \n",
    "\n",
    "import jieba\n",
    "from snownlp import SnowNLP\n",
    "from wordcloud import WordCloud"
   ]
  },
  {
   "cell_type": "code",
   "execution_count": 2,
   "metadata": {},
   "outputs": [],
   "source": [
    "conn = sqlite3.connect('netease_cloud_music.db')"
   ]
  },
  {
   "cell_type": "code",
   "execution_count": 3,
   "metadata": {},
   "outputs": [],
   "source": [
    "sql = '''\n",
    "    SELECT *\n",
    "    FROM song\n",
    "    WHERE artists LIKE '%窦唯%'\n",
    "'''"
   ]
  },
  {
   "cell_type": "code",
   "execution_count": 4,
   "metadata": {},
   "outputs": [],
   "source": [
    "song = pd.read_sql(sql, con=conn)"
   ]
  },
  {
   "cell_type": "code",
   "execution_count": 5,
   "metadata": {},
   "outputs": [
    {
     "data": {
      "text/plain": [
       "song_id       445\n",
       "song_name     358\n",
       "artists        13\n",
       "album_name     75\n",
       "album_id       75\n",
       "duration      401\n",
       "dtype: int64"
      ]
     },
     "execution_count": 5,
     "metadata": {},
     "output_type": "execute_result"
    }
   ],
   "source": [
    "song.nunique()"
   ]
  },
  {
   "cell_type": "code",
   "execution_count": 6,
   "metadata": {},
   "outputs": [
    {
     "data": {
      "text/html": [
       "<div>\n",
       "<style scoped>\n",
       "    .dataframe tbody tr th:only-of-type {\n",
       "        vertical-align: middle;\n",
       "    }\n",
       "\n",
       "    .dataframe tbody tr th {\n",
       "        vertical-align: top;\n",
       "    }\n",
       "\n",
       "    .dataframe thead th {\n",
       "        text-align: right;\n",
       "    }\n",
       "</style>\n",
       "<table border=\"1\" class=\"dataframe\">\n",
       "  <thead>\n",
       "    <tr style=\"text-align: right;\">\n",
       "      <th></th>\n",
       "      <th>song_id</th>\n",
       "      <th>song_name</th>\n",
       "      <th>artists</th>\n",
       "      <th>album_name</th>\n",
       "      <th>album_id</th>\n",
       "      <th>duration</th>\n",
       "    </tr>\n",
       "  </thead>\n",
       "  <tbody>\n",
       "    <tr>\n",
       "      <th>351</th>\n",
       "      <td>77003</td>\n",
       "      <td>Untitled 4</td>\n",
       "      <td>窦唯,FM3,</td>\n",
       "      <td>后观音</td>\n",
       "      <td>7565</td>\n",
       "      <td>227709</td>\n",
       "    </tr>\n",
       "    <tr>\n",
       "      <th>71</th>\n",
       "      <td>77305</td>\n",
       "      <td>窗外</td>\n",
       "      <td>窦唯,</td>\n",
       "      <td>希望之光精选辑</td>\n",
       "      <td>7595</td>\n",
       "      <td>285466</td>\n",
       "    </tr>\n",
       "    <tr>\n",
       "      <th>344</th>\n",
       "      <td>26032093</td>\n",
       "      <td>伍 西夕中东</td>\n",
       "      <td>窦唯,暮良文王,</td>\n",
       "      <td>相相生</td>\n",
       "      <td>2360539</td>\n",
       "      <td>107000</td>\n",
       "    </tr>\n",
       "    <tr>\n",
       "      <th>196</th>\n",
       "      <td>76882</td>\n",
       "      <td>Track 05</td>\n",
       "      <td>窦唯,</td>\n",
       "      <td>五音环乐</td>\n",
       "      <td>7545</td>\n",
       "      <td>737672</td>\n",
       "    </tr>\n",
       "    <tr>\n",
       "      <th>275</th>\n",
       "      <td>26577380</td>\n",
       "      <td>望天儿</td>\n",
       "      <td>窦唯,不一定,</td>\n",
       "      <td>五鹊六雁</td>\n",
       "      <td>2523295</td>\n",
       "      <td>43000</td>\n",
       "    </tr>\n",
       "  </tbody>\n",
       "</table>\n",
       "</div>"
      ],
      "text/plain": [
       "      song_id   song_name   artists album_name  album_id  duration\n",
       "351     77003  Untitled 4   窦唯,FM3,        后观音      7565    227709\n",
       "71      77305          窗外       窦唯,    希望之光精选辑      7595    285466\n",
       "344  26032093      伍 西夕中东  窦唯,暮良文王,        相相生   2360539    107000\n",
       "196     76882    Track 05       窦唯,       五音环乐      7545    737672\n",
       "275  26577380         望天儿   窦唯,不一定,       五鹊六雁   2523295     43000"
      ]
     },
     "execution_count": 6,
     "metadata": {},
     "output_type": "execute_result"
    }
   ],
   "source": [
    "song.sample(5)"
   ]
  },
  {
   "cell_type": "code",
   "execution_count": 7,
   "metadata": {},
   "outputs": [],
   "source": [
    "sql = '''\n",
    "    SELECT *\n",
    "    FROM comment\n",
    "    WHERE song_id IN (\n",
    "        SELECT song_id\n",
    "        FROM song\n",
    "        WHERE artists LIKE '%窦唯%'\n",
    "    )\n",
    "'''"
   ]
  },
  {
   "cell_type": "code",
   "execution_count": 8,
   "metadata": {},
   "outputs": [],
   "source": [
    "comment = pd.read_sql(sql, con=conn)"
   ]
  },
  {
   "cell_type": "code",
   "execution_count": 9,
   "metadata": {},
   "outputs": [
    {
     "data": {
      "text/plain": [
       "comment_id       159232\n",
       "user_id           70254\n",
       "user_nickname     68798\n",
       "user_avatar       80094\n",
       "content          136898\n",
       "likeCount           616\n",
       "song_id             445\n",
       "dtype: int64"
      ]
     },
     "execution_count": 9,
     "metadata": {},
     "output_type": "execute_result"
    }
   ],
   "source": [
    "comment.nunique()"
   ]
  },
  {
   "cell_type": "code",
   "execution_count": 10,
   "metadata": {},
   "outputs": [
    {
     "name": "stdout",
     "output_type": "stream",
     "text": [
      "       song_id song_name    num\n",
      "0      5279713      高级动物  11722\n",
      "4      5279715      悲伤的梦   9316\n",
      "5        77169      暮春秋色   7464\n",
      "8      5279714       噢 乖   6477\n",
      "13   526468453    送别2017   5605\n",
      "28   512298988      重返魔域   4677\n",
      "124   27853979       殃金咒   4493\n",
      "327   26031014        雨吁   3965\n",
      "377   34248413   既然我们是兄弟   3845\n",
      "435   28465036       天宫图   3739\n"
     ]
    }
   ],
   "source": [
    "song_top10_num = comment.groupby('song_id').size().sort_values(ascending=False)[0:10]\n",
    "song_top10 = song[song['song_id'].isin(song_top10_num.index)].iloc[:, 0:2]\n",
    "song_top10['num'] =  song_top10_num.tolist()\n",
    "print(song_top10)"
   ]
  },
  {
   "cell_type": "code",
   "execution_count": 11,
   "metadata": {},
   "outputs": [
    {
     "name": "stdout",
     "output_type": "stream",
     "text": [
      "user_id\n",
      "42830600     549\n",
      "33712056     322\n",
      "51625217     273\n",
      "284151966    242\n",
      "2159884      234\n",
      "271253793    234\n",
      "388206024    233\n",
      "263344124    232\n",
      "84030184     209\n",
      "131005965    204\n",
      "dtype: int64\n"
     ]
    }
   ],
   "source": [
    "user_top10 = comment.groupby('user_id').size().sort_values(ascending=False)[0:10]\n",
    "print(user_top10)"
   ]
  },
  {
   "cell_type": "code",
   "execution_count": 12,
   "metadata": {},
   "outputs": [
    {
     "name": "stdout",
     "output_type": "stream",
     "text": [
      "        comment_id  likeCount\n",
      "11252     51694054      35285\n",
      "10522    133265373      15409\n",
      "10211    148045985      12886\n",
      "146129    40249220       9234\n",
      "10038    157500246       7670\n",
      "38728      6107434       7393\n",
      "48826    658314395       5559\n",
      "31101      7875585       5248\n",
      "146213    35287069       4900\n",
      "37307    231408710       4801\n"
     ]
    }
   ],
   "source": [
    "comment_top10 = comment.sort_values(['likeCount'], ascending=False)[0:10]\n",
    "print(comment_top10[['comment_id', 'likeCount']])"
   ]
  },
  {
   "cell_type": "code",
   "execution_count": 13,
   "metadata": {},
   "outputs": [],
   "source": [
    "#comment['semiscore'] = comment['content'].apply(lambda x: SnowNLP(x).sentiments)\n",
    "#comment['semilabel'] = comment['semiscore'].apply(lambda x: 1 if x > 0.5 else -1)"
   ]
  },
  {
   "cell_type": "code",
   "execution_count": 17,
   "metadata": {},
   "outputs": [],
   "source": [
    "comment.to_csv('douwei.csv', index=False)"
   ]
  },
  {
   "cell_type": "code",
   "execution_count": null,
   "metadata": {},
   "outputs": [],
   "source": []
  }
 ],
 "metadata": {
  "hide_input": false,
  "kernelspec": {
   "display_name": "Python 3",
   "language": "python",
   "name": "python3"
  },
  "language_info": {
   "codemirror_mode": {
    "name": "ipython",
    "version": 3
   },
   "file_extension": ".py",
   "mimetype": "text/x-python",
   "name": "python",
   "nbconvert_exporter": "python",
   "pygments_lexer": "ipython3",
   "version": "3.7.1"
  }
 },
 "nbformat": 4,
 "nbformat_minor": 2
}

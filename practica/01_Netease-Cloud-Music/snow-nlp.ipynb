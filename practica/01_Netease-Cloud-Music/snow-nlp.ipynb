{
 "cells": [
  {
   "cell_type": "code",
   "execution_count": 8,
   "metadata": {},
   "outputs": [],
   "source": [
    "import sqlite3\n",
    "import pandas as pd"
   ]
  },
  {
   "cell_type": "code",
   "execution_count": 9,
   "metadata": {},
   "outputs": [],
   "source": [
    "conn = sqlite3.connect('netease_cloud_music.db')"
   ]
  },
  {
   "cell_type": "code",
   "execution_count": 12,
   "metadata": {},
   "outputs": [],
   "source": [
    "df = pd.read_sql('SELECT * FROM comment', con=conn)"
   ]
  },
  {
   "cell_type": "code",
   "execution_count": 13,
   "metadata": {},
   "outputs": [
    {
     "data": {
      "text/html": [
       "<div>\n",
       "<style scoped>\n",
       "    .dataframe tbody tr th:only-of-type {\n",
       "        vertical-align: middle;\n",
       "    }\n",
       "\n",
       "    .dataframe tbody tr th {\n",
       "        vertical-align: top;\n",
       "    }\n",
       "\n",
       "    .dataframe thead th {\n",
       "        text-align: right;\n",
       "    }\n",
       "</style>\n",
       "<table border=\"1\" class=\"dataframe\">\n",
       "  <thead>\n",
       "    <tr style=\"text-align: right;\">\n",
       "      <th></th>\n",
       "      <th>comment_id</th>\n",
       "      <th>user_id</th>\n",
       "      <th>user_nickname</th>\n",
       "      <th>user_avatar</th>\n",
       "      <th>content</th>\n",
       "      <th>likeCount</th>\n",
       "    </tr>\n",
       "  </thead>\n",
       "  <tbody>\n",
       "    <tr>\n",
       "      <th>0</th>\n",
       "      <td>1288440783</td>\n",
       "      <td>510915436</td>\n",
       "      <td>瓷蓝瓶</td>\n",
       "      <td>http://p2.music.126.net/JUryvW7858pT3iU2hDAxug...</td>\n",
       "      <td>很云淡风轻的感觉 说不出来的舒服</td>\n",
       "      <td>0</td>\n",
       "    </tr>\n",
       "    <tr>\n",
       "      <th>1</th>\n",
       "      <td>1288384250</td>\n",
       "      <td>405773859</td>\n",
       "      <td>吴彦祖走了</td>\n",
       "      <td>http://p2.music.126.net/_aIEsCrGPSCsMvM6bSMmcA...</td>\n",
       "      <td>对对对</td>\n",
       "      <td>0</td>\n",
       "    </tr>\n",
       "    <tr>\n",
       "      <th>2</th>\n",
       "      <td>1288388112</td>\n",
       "      <td>405773859</td>\n",
       "      <td>吴彦祖走了</td>\n",
       "      <td>http://p2.music.126.net/_aIEsCrGPSCsMvM6bSMmcA...</td>\n",
       "      <td>有一、、、、像任我行</td>\n",
       "      <td>1</td>\n",
       "    </tr>\n",
       "    <tr>\n",
       "      <th>3</th>\n",
       "      <td>1288091555</td>\n",
       "      <td>1415034102</td>\n",
       "      <td>DralingInTheFRANXX-</td>\n",
       "      <td>http://p2.music.126.net/LvFZwI3I9tWp30k8JGk26g...</td>\n",
       "      <td>是脱离团队，单人创作不是离开了</td>\n",
       "      <td>0</td>\n",
       "    </tr>\n",
       "    <tr>\n",
       "      <th>4</th>\n",
       "      <td>1288002316</td>\n",
       "      <td>390539643</td>\n",
       "      <td>ankerjam</td>\n",
       "      <td>http://p2.music.126.net/MQqrzlhYXaDaZpalTjs7eg...</td>\n",
       "      <td>床前明月光</td>\n",
       "      <td>0</td>\n",
       "    </tr>\n",
       "  </tbody>\n",
       "</table>\n",
       "</div>"
      ],
      "text/plain": [
       "   comment_id     user_id        user_nickname  \\\n",
       "0  1288440783   510915436                  瓷蓝瓶   \n",
       "1  1288384250   405773859                吴彦祖走了   \n",
       "2  1288388112   405773859                吴彦祖走了   \n",
       "3  1288091555  1415034102  DralingInTheFRANXX-   \n",
       "4  1288002316   390539643             ankerjam   \n",
       "\n",
       "                                         user_avatar           content  \\\n",
       "0  http://p2.music.126.net/JUryvW7858pT3iU2hDAxug...  很云淡风轻的感觉 说不出来的舒服   \n",
       "1  http://p2.music.126.net/_aIEsCrGPSCsMvM6bSMmcA...               对对对   \n",
       "2  http://p2.music.126.net/_aIEsCrGPSCsMvM6bSMmcA...        有一、、、、像任我行   \n",
       "3  http://p2.music.126.net/LvFZwI3I9tWp30k8JGk26g...   是脱离团队，单人创作不是离开了   \n",
       "4  http://p2.music.126.net/MQqrzlhYXaDaZpalTjs7eg...             床前明月光   \n",
       "\n",
       "   likeCount  \n",
       "0          0  \n",
       "1          0  \n",
       "2          1  \n",
       "3          0  \n",
       "4          0  "
      ]
     },
     "execution_count": 13,
     "metadata": {},
     "output_type": "execute_result"
    }
   ],
   "source": [
    "df.head()"
   ]
  },
  {
   "cell_type": "code",
   "execution_count": null,
   "metadata": {},
   "outputs": [],
   "source": []
  }
 ],
 "metadata": {
  "hide_input": false,
  "kernelspec": {
   "display_name": "Python 3",
   "language": "python",
   "name": "python3"
  },
  "language_info": {
   "codemirror_mode": {
    "name": "ipython",
    "version": 3
   },
   "file_extension": ".py",
   "mimetype": "text/x-python",
   "name": "python",
   "nbconvert_exporter": "python",
   "pygments_lexer": "ipython3",
   "version": "3.7.1"
  }
 },
 "nbformat": 4,
 "nbformat_minor": 2
}

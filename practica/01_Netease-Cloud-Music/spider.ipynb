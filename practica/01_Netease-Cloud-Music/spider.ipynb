{
 "cells": [
  {
   "cell_type": "code",
   "execution_count": null,
   "metadata": {},
   "outputs": [],
   "source": [
    "import requests\n",
    "\n",
    "import re\n",
    "import urllib\n",
    "import math\n",
    "import time\n",
    "import random\n",
    "\n",
    "import pandas as pd\n",
    "import sqlite3"
   ]
  },
  {
   "cell_type": "code",
   "execution_count": null,
   "metadata": {},
   "outputs": [],
   "source": [
    "my_headers = {\n",
    "    'Accept': 'text/html,application/xhtml+xml,application/xml;q=0.9,image/webp,image/apng,*/*;q=0.8',\n",
    "    'Accept-Encoding': 'gzip, deflate',\n",
    "    'Accept-Language': 'zh-CN,zh;q=0.9',\n",
    "    'Host': 'music.163.com',\n",
    "    'User-Agent': 'Mozilla/5.0 (Windows NT 6.1; Win64; x64) AppleWebKit/537.36 (KHTML, like Gecko) Chrome/64.0.3282.140 Safari/537.36'\n",
    "}"
   ]
  },
  {
   "cell_type": "code",
   "execution_count": null,
   "metadata": {},
   "outputs": [],
   "source": [
    "def getJSON(url, headers):\n",
    "    \"\"\"\n",
    "    @ param url:\n",
    "    @ param headers:\n",
    "    @ return json:\n",
    "    \"\"\"\n",
    "    res = requests.get(url, headers=headers)\n",
    "    res.raise_for_status()  \n",
    "    res.encoding = 'utf-8'  \n",
    "    json = res.json()\n",
    "    return json"
   ]
  },
  {
   "cell_type": "code",
   "execution_count": null,
   "metadata": {},
   "outputs": [],
   "source": [
    "def countPages(total, limit):\n",
    "    \"\"\"\n",
    "    @ param total:\n",
    "    @ return page:\n",
    "    \"\"\"\n",
    "    page = math.ceil(total/limit) \n",
    "    return page"
   ]
  },
  {
   "cell_type": "code",
   "execution_count": null,
   "metadata": {},
   "outputs": [],
   "source": [
    "def getSongInfo(song_list):\n",
    "    \"\"\"\n",
    "    \n",
    "    \"\"\"\n",
    "    song_info_list = []\n",
    "    \n",
    "    for song in song_list:\n",
    "        song_info = []\n",
    "    \n",
    "        song_info.append(song['id'])\n",
    "        song_info.append(song['name'])\n",
    "    \n",
    "        artists_name = ''\n",
    "        artists = song['artists']\n",
    "        for artist in artists:\n",
    "            artists_name += artist['name'] + ','\n",
    "        song_info.append(artists_name)\n",
    "    \n",
    "        song_info.append(song['album']['name'])\n",
    "        song_info.append(song['album']['id'])\n",
    "        song_info.append(song['duration'])\n",
    "        \n",
    "        song_info_list.append(song_info)\n",
    "        \n",
    "    return song_info_list"
   ]
  },
  {
   "cell_type": "code",
   "execution_count": null,
   "metadata": {},
   "outputs": [],
   "source": [
    "def getSongList(key, limit=30):\n",
    "    \"\"\"\n",
    "    @ param key:\n",
    "    @ return result:\n",
    "    \"\"\"\n",
    "    total_list = []\n",
    "    key = urllib.parse.quote(key)\n",
    "    url = 'http://music.163.com/api/search/get/web?csrf_token=&hlpretag=&hlposttag=&s=' + key +  '&type=1&offset=0&total=true&limit='\n",
    "    \n",
    "    first_page = getJSON(url, my_headers)\n",
    "    song_count = first_page['result']['songCount']\n",
    "    page_num = countPages(song_count, limit)\n",
    "    \n",
    "    for n in range(page_num):\n",
    "        url = 'http://music.163.com/api/search/get/web?csrf_token=&hlpretag=&hlposttag=&s=' + key +  '&type=1&offset=' + str(n) + '&total=true&limit=' + str(limit)\n",
    "        tmp = getJSON(url, my_headers)\n",
    "        song_list = getSongInfo(tmp['result']['songs'])\n",
    "        total_list += song_list\n",
    "        \n",
    "        #print('第 {0}/{1} 页爬取完成'.format(n+1, page_num))\n",
    "        time.sleep(random.randint(2, 4)) \n",
    "        \n",
    "    df = pd.DataFrame(data = total_list, columns=['song_id', 'song_name', 'artists', 'album_name', 'album_id', 'duration'])\n",
    "    return df"
   ]
  },
  {
   "cell_type": "code",
   "execution_count": null,
   "metadata": {},
   "outputs": [],
   "source": [
    "def getComment(comments):\n",
    "    \"\"\"\n",
    "    \n",
    "    \"\"\"\n",
    "    comments_list = []\n",
    "    \n",
    "    for comment in comments:\n",
    "        comment_info = []\n",
    "        comment_info.append(comment['commentId'])\n",
    "        comment_info.append(comment['user']['userId'])\n",
    "        comment_info.append(comment['user']['nickname'])\n",
    "        comment_info.append(comment['user']['avatarUrl'])\n",
    "        comment_info.append(comment['content'])\n",
    "        comment_info.append(comment['likedCount'])\n",
    "        comments_list.append(comment_info)\n",
    "        \n",
    "    return comments_list"
   ]
  },
  {
   "cell_type": "code",
   "execution_count": null,
   "metadata": {},
   "outputs": [],
   "source": [
    "def getSongComment(id, limit=20):\n",
    "    \"\"\"\n",
    "    @ param id:\n",
    "    @ return result:\n",
    "    \"\"\"\n",
    "    total_comment = []\n",
    "    url = 'http://music.163.com/api/v1/resource/comments/R_SO_4_' + str(id) +  '?limit=20&offset=0'\n",
    "    \n",
    "    first_page = getJSON(url, my_headers)\n",
    "    total = first_page['total']\n",
    "    page_num = countPages(total, limit)\n",
    "    \n",
    "    for n in range(page_num):\n",
    "        url = 'http://music.163.com/api/v1/resource/comments/R_SO_4_' + str(id) +  '?limit=' + str(limit) + '&offset=' + str(n)\n",
    "        tmp = getJSON(url, my_headers)\n",
    "        comment_list = getComment(tmp['comments'])\n",
    "        total_comment += comment_list\n",
    "        \n",
    "        print('第 {0}/{1} 页爬取完成'.format(n+1, page_num))\n",
    "        time.sleep(random.randint(2, 4)) \n",
    "        \n",
    "    df = pd.DataFrame(data = total_comment, columns=['comment_id', 'user_id', 'user_nickname', 'user_avatar', 'content', 'likeCount'])\n",
    "    return df"
   ]
  },
  {
   "cell_type": "code",
   "execution_count": null,
   "metadata": {},
   "outputs": [],
   "source": [
    "conn = sqlite3.connect('netease_cloud_music.db')"
   ]
  },
  {
   "cell_type": "code",
   "execution_count": null,
   "metadata": {},
   "outputs": [],
   "source": [
    "artist='窦唯'"
   ]
  },
  {
   "cell_type": "code",
   "execution_count": null,
   "metadata": {},
   "outputs": [],
   "source": [
    "song_df = getSongList(artist, 100)\n",
    "song_df = song_df[song_df['artists'].str.contains(artist)]\n",
    "song_df.to_sql(name='song', con=conn, if_exists='append', index=False)"
   ]
  },
  {
   "cell_type": "code",
   "execution_count": null,
   "metadata": {},
   "outputs": [],
   "source": [
    "comment_df = pd.DataFrame()\n",
    "for id in song_df['song_id']:\n",
    "    print('开始爬取 {}'.format(id))\n",
    "    tmp_df = getSongComment(id, limit=100)\n",
    "    comment_df = pd.concat([comment_df, tmp_df])\n",
    "comment_df.to_sql(name='comment', con=conn, if_exists='append', index=False)"
   ]
  }
 ],
 "metadata": {
  "hide_input": false,
  "kernelspec": {
   "display_name": "Python 3",
   "language": "python",
   "name": "python3"
  },
  "language_info": {
   "codemirror_mode": {
    "name": "ipython",
    "version": 3
   },
   "file_extension": ".py",
   "mimetype": "text/x-python",
   "name": "python",
   "nbconvert_exporter": "python",
   "pygments_lexer": "ipython3",
   "version": "3.7.1"
  }
 },
 "nbformat": 4,
 "nbformat_minor": 2
}

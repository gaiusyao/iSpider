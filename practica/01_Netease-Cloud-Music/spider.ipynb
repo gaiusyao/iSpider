{
 "cells": [
  {
   "cell_type": "code",
   "execution_count": 1,
   "metadata": {},
   "outputs": [],
   "source": [
    "import requests\n",
    "import urllib\n",
    "import math\n",
    "import time\n",
    "import random\n",
    "\n",
    "import pandas as pd\n",
    "import sqlite3"
   ]
  },
  {
   "cell_type": "code",
   "execution_count": 2,
   "metadata": {},
   "outputs": [],
   "source": [
    "my_headers = {\n",
    "    'Accept': 'text/html,application/xhtml+xml,application/xml;q=0.9,image/webp,image/apng,*/*;q=0.8',\n",
    "    'Accept-Encoding': 'gzip, deflate',\n",
    "    'Accept-Language': 'zh-CN,zh;q=0.9',\n",
    "    'Host': 'music.163.com',\n",
    "    'User-Agent': 'Mozilla/5.0 (Windows NT 6.1; Win64; x64) AppleWebKit/537.36 (KHTML, like Gecko) Chrome/64.0.3282.140 Safari/537.36'\n",
    "}"
   ]
  },
  {
   "cell_type": "code",
   "execution_count": 3,
   "metadata": {},
   "outputs": [],
   "source": [
    "def getJSON(url, headers):\n",
    "    \"\"\"\n",
    "    @ param url:\n",
    "    @ param headers:\n",
    "    @ return json:\n",
    "    \"\"\"\n",
    "    res = requests.get(url, headers=headers)\n",
    "    res.raise_for_status()  \n",
    "    res.encoding = 'utf-8'  \n",
    "    json = res.json()\n",
    "    return json"
   ]
  },
  {
   "cell_type": "code",
   "execution_count": 4,
   "metadata": {},
   "outputs": [],
   "source": [
    "def countPages(total, limit):\n",
    "    \"\"\"\n",
    "    @ param total:\n",
    "    @ return page:\n",
    "    \"\"\"\n",
    "    page = math.ceil(total/limit) \n",
    "    return page"
   ]
  },
  {
   "cell_type": "code",
   "execution_count": 5,
   "metadata": {},
   "outputs": [],
   "source": [
    "def getSongInfo(song_list):\n",
    "    \"\"\"\n",
    "    \n",
    "    \"\"\"\n",
    "    song_info_list = []\n",
    "    \n",
    "    for song in song_list:\n",
    "        song_info = []\n",
    "    \n",
    "        song_info.append(song['id'])\n",
    "        song_info.append(song['name'])\n",
    "    \n",
    "        artist_str = ''\n",
    "        artists = song['artists']\n",
    "        for artist in artists:\n",
    "            artist_str += artist['name'] + '/'\n",
    "        song_info.append(artist_str)\n",
    "    \n",
    "        song_info.append(song['album']['name'])\n",
    "        song_info.append(song['duration'])\n",
    "        \n",
    "        song_info_list.append(song_info)\n",
    "        \n",
    "    return song_info_list"
   ]
  },
  {
   "cell_type": "code",
   "execution_count": 6,
   "metadata": {},
   "outputs": [],
   "source": [
    "def getSongList(key, limit=30):\n",
    "    \"\"\"\n",
    "    @ param key:\n",
    "    @ return result:\n",
    "    \"\"\"\n",
    "    total_list = []\n",
    "    key = urllib.parse.quote(key)\n",
    "    url = 'http://music.163.com/api/search/get/web?csrf_token=&hlpretag=&hlposttag=&s=' + key +  '&type=1&offset=0&total=true&limit='\n",
    "    \n",
    "    first_page = getJSON(url, my_headers)\n",
    "    song_count = first_page['result']['songCount']\n",
    "    page_num = countPages(song_count, limit)\n",
    "    \n",
    "    for n in range(page_num):\n",
    "        url = 'http://music.163.com/api/search/get/web?csrf_token=&hlpretag=&hlposttag=&s=' + key +  '&type=1&offset=' + str(n) + '&total=true&limit=' + str(limit)\n",
    "        tmp = getJSON(url, my_headers)\n",
    "        song_list = getSongInfo(tmp['result']['songs'])\n",
    "        total_list += song_list\n",
    "        \n",
    "        print('第 {0}/{1} 页爬取完成'.format(n+1, page_num))\n",
    "        time.sleep(random.randint(2, 8)) \n",
    "        \n",
    "    df = pd.DataFrame(data = total_list)\n",
    "    return df"
   ]
  },
  {
   "cell_type": "code",
   "execution_count": 7,
   "metadata": {},
   "outputs": [],
   "source": [
    "def getSongComment():\n",
    "    \"\"\"\n",
    "    \n",
    "    \"\"\""
   ]
  },
  {
   "cell_type": "code",
   "execution_count": 8,
   "metadata": {},
   "outputs": [],
   "source": [
    "def getSongDetail(id):\n",
    "    \"\"\"\n",
    "    @ param id:\n",
    "    @ return result:\n",
    "    \"\"\""
   ]
  },
  {
   "cell_type": "code",
   "execution_count": null,
   "metadata": {},
   "outputs": [],
   "source": [
    "getJSON(url, my_headers)"
   ]
  }
 ],
 "metadata": {
  "hide_input": false,
  "kernelspec": {
   "display_name": "Python 3",
   "language": "python",
   "name": "python3"
  },
  "language_info": {
   "codemirror_mode": {
    "name": "ipython",
    "version": 3
   },
   "file_extension": ".py",
   "mimetype": "text/x-python",
   "name": "python",
   "nbconvert_exporter": "python",
   "pygments_lexer": "ipython3",
   "version": "3.7.1"
  }
 },
 "nbformat": 4,
 "nbformat_minor": 2
}

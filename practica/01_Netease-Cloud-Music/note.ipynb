{
 "cells": [
  {
   "cell_type": "code",
   "execution_count": 7,
   "metadata": {},
   "outputs": [],
   "source": [
    "import sqlite3\n",
    "import pandas as pd"
   ]
  },
  {
   "cell_type": "code",
   "execution_count": 8,
   "metadata": {},
   "outputs": [],
   "source": [
    "conn = sqlite3.connect('netease_cloud_music.db')"
   ]
  },
  {
   "cell_type": "code",
   "execution_count": 9,
   "metadata": {},
   "outputs": [],
   "source": [
    "sql = '''\n",
    "    SELECT *\n",
    "    FROM song\n",
    "    WHERE artists LIKE '%窦唯%'\n",
    "'''"
   ]
  },
  {
   "cell_type": "code",
   "execution_count": 10,
   "metadata": {},
   "outputs": [],
   "source": [
    "df = pd.read_sql(sql, con=conn)"
   ]
  },
  {
   "cell_type": "code",
   "execution_count": 11,
   "metadata": {},
   "outputs": [
    {
     "data": {
      "text/html": [
       "<div>\n",
       "<style scoped>\n",
       "    .dataframe tbody tr th:only-of-type {\n",
       "        vertical-align: middle;\n",
       "    }\n",
       "\n",
       "    .dataframe tbody tr th {\n",
       "        vertical-align: top;\n",
       "    }\n",
       "\n",
       "    .dataframe thead th {\n",
       "        text-align: right;\n",
       "    }\n",
       "</style>\n",
       "<table border=\"1\" class=\"dataframe\">\n",
       "  <thead>\n",
       "    <tr style=\"text-align: right;\">\n",
       "      <th></th>\n",
       "      <th>song_id</th>\n",
       "      <th>song_name</th>\n",
       "      <th>artists</th>\n",
       "      <th>album_name</th>\n",
       "      <th>album_id</th>\n",
       "      <th>duration</th>\n",
       "    </tr>\n",
       "  </thead>\n",
       "  <tbody>\n",
       "    <tr>\n",
       "      <th>0</th>\n",
       "      <td>5279713</td>\n",
       "      <td>高级动物</td>\n",
       "      <td>窦唯,</td>\n",
       "      <td>摇滚中国乐势力</td>\n",
       "      <td>513562</td>\n",
       "      <td>217391</td>\n",
       "    </tr>\n",
       "    <tr>\n",
       "      <th>1</th>\n",
       "      <td>77466</td>\n",
       "      <td>噢!乖</td>\n",
       "      <td>窦唯,</td>\n",
       "      <td>黑梦</td>\n",
       "      <td>7608</td>\n",
       "      <td>314697</td>\n",
       "    </tr>\n",
       "    <tr>\n",
       "      <th>2</th>\n",
       "      <td>77417</td>\n",
       "      <td>艳阳天</td>\n",
       "      <td>窦唯,</td>\n",
       "      <td>艳阳天</td>\n",
       "      <td>7605</td>\n",
       "      <td>241998</td>\n",
       "    </tr>\n",
       "    <tr>\n",
       "      <th>3</th>\n",
       "      <td>77447</td>\n",
       "      <td>黑色梦中</td>\n",
       "      <td>窦唯,</td>\n",
       "      <td>黑梦</td>\n",
       "      <td>7608</td>\n",
       "      <td>284056</td>\n",
       "    </tr>\n",
       "    <tr>\n",
       "      <th>4</th>\n",
       "      <td>5279715</td>\n",
       "      <td>悲伤的梦</td>\n",
       "      <td>窦唯,</td>\n",
       "      <td>摇滚中国乐势力</td>\n",
       "      <td>513562</td>\n",
       "      <td>323997</td>\n",
       "    </tr>\n",
       "  </tbody>\n",
       "</table>\n",
       "</div>"
      ],
      "text/plain": [
       "   song_id song_name artists album_name  album_id  duration\n",
       "0  5279713      高级动物     窦唯,    摇滚中国乐势力    513562    217391\n",
       "1    77466       噢!乖     窦唯,         黑梦      7608    314697\n",
       "2    77417       艳阳天     窦唯,        艳阳天      7605    241998\n",
       "3    77447      黑色梦中     窦唯,         黑梦      7608    284056\n",
       "4  5279715      悲伤的梦     窦唯,    摇滚中国乐势力    513562    323997"
      ]
     },
     "execution_count": 11,
     "metadata": {},
     "output_type": "execute_result"
    }
   ],
   "source": [
    "df.head()"
   ]
  },
  {
   "cell_type": "code",
   "execution_count": 12,
   "metadata": {},
   "outputs": [
    {
     "name": "stdout",
     "output_type": "stream",
     "text": [
      "<class 'pandas.core.frame.DataFrame'>\n",
      "RangeIndex: 445 entries, 0 to 444\n",
      "Data columns (total 6 columns):\n",
      "song_id       445 non-null int64\n",
      "song_name     445 non-null object\n",
      "artists       445 non-null object\n",
      "album_name    445 non-null object\n",
      "album_id      445 non-null int64\n",
      "duration      445 non-null int64\n",
      "dtypes: int64(3), object(3)\n",
      "memory usage: 20.9+ KB\n"
     ]
    }
   ],
   "source": [
    "df.info()"
   ]
  },
  {
   "cell_type": "code",
   "execution_count": 13,
   "metadata": {},
   "outputs": [
    {
     "data": {
      "text/plain": [
       "445"
      ]
     },
     "execution_count": 13,
     "metadata": {},
     "output_type": "execute_result"
    }
   ],
   "source": [
    "df['song_id'].nunique()"
   ]
  },
  {
   "cell_type": "code",
   "execution_count": 22,
   "metadata": {},
   "outputs": [],
   "source": [
    "sql = '''\n",
    "    SELECT *\n",
    "    FROM comment\n",
    "'''"
   ]
  },
  {
   "cell_type": "code",
   "execution_count": 23,
   "metadata": {},
   "outputs": [],
   "source": [
    "df2 = pd.read_sql(sql, con=conn)"
   ]
  },
  {
   "cell_type": "code",
   "execution_count": 24,
   "metadata": {},
   "outputs": [
    {
     "name": "stdout",
     "output_type": "stream",
     "text": [
      "<class 'pandas.core.frame.DataFrame'>\n",
      "RangeIndex: 53541 entries, 0 to 53540\n",
      "Data columns (total 7 columns):\n",
      "comment_id       53541 non-null int64\n",
      "user_id          53541 non-null int64\n",
      "user_nickname    53541 non-null object\n",
      "user_avatar      53541 non-null object\n",
      "content          53541 non-null object\n",
      "likeCount        53541 non-null int64\n",
      "song_id          53541 non-null object\n",
      "dtypes: int64(3), object(4)\n",
      "memory usage: 2.9+ MB\n"
     ]
    }
   ],
   "source": [
    "df2.info()"
   ]
  },
  {
   "cell_type": "code",
   "execution_count": 25,
   "metadata": {},
   "outputs": [
    {
     "data": {
      "text/plain": [
       "comment_id       53541\n",
       "user_id          32976\n",
       "user_nickname    32272\n",
       "user_avatar      35593\n",
       "content          47897\n",
       "likeCount          298\n",
       "song_id             15\n",
       "dtype: int64"
      ]
     },
     "execution_count": 25,
     "metadata": {},
     "output_type": "execute_result"
    }
   ],
   "source": [
    "df2.nunique()"
   ]
  },
  {
   "cell_type": "code",
   "execution_count": null,
   "metadata": {},
   "outputs": [],
   "source": []
  }
 ],
 "metadata": {
  "hide_input": false,
  "kernelspec": {
   "display_name": "Python 3",
   "language": "python",
   "name": "python3"
  },
  "language_info": {
   "codemirror_mode": {
    "name": "ipython",
    "version": 3
   },
   "file_extension": ".py",
   "mimetype": "text/x-python",
   "name": "python",
   "nbconvert_exporter": "python",
   "pygments_lexer": "ipython3",
   "version": "3.7.1"
  }
 },
 "nbformat": 4,
 "nbformat_minor": 2
}

{
 "cells": [
  {
   "cell_type": "code",
   "execution_count": 1,
   "metadata": {},
   "outputs": [],
   "source": [
    "import os\n",
    "import re\n",
    "import sqlite3\n",
    "import pandas as pd\n",
    "from bs4 import BeautifulSoup"
   ]
  },
  {
   "cell_type": "code",
   "execution_count": 2,
   "metadata": {},
   "outputs": [],
   "source": [
    "def openDoc(file):\n",
    "    '''  Open the HTML document\n",
    "    @param file: file_path, str\n",
    "    @return soup: beautiful soup, bs4.BeautifulSoup\n",
    "    '''\n",
    "    htmldoc = open(file, 'r', encoding='utf-8')\n",
    "    htmlhandle = htmldoc.read()\n",
    "    soup = BeautifulSoup(htmlhandle, 'lxml')\n",
    "    htmldoc.close()\n",
    "    return soup"
   ]
  },
  {
   "cell_type": "code",
   "execution_count": 3,
   "metadata": {},
   "outputs": [],
   "source": [
    "def splitContent(case_content):\n",
    "    ''' Split Use Case Contents\n",
    "    @param case_content: use case contents, str\n",
    "    @return desc_list: use case description, list\n",
    "    '''\n",
    "    text = re.sub(r'[\\n\\xa0]', '', case_content)\n",
    "    desc_list = re.split(r'\\x95\\s+', text)\n",
    "    return desc_list"
   ]
  },
  {
   "cell_type": "code",
   "execution_count": 4,
   "metadata": {},
   "outputs": [],
   "source": [
    "def getUseCase(page_code, use_case):\n",
    "    ''' Analysis Use Case Contents\n",
    "    @param page_code: page code, str\n",
    "    @param use_case: use case, bs4.element.Tag\n",
    "    @return case_desc: use case desc, list\n",
    "    @return child_case: child use case, list\n",
    "    '''\n",
    "    case_content = use_case.get_text()\n",
    "    tmp = re.split(r'#', case_content)\n",
    "    if len(tmp) > 1:\n",
    "        case_note = re.sub(r'[\\n\\xa0]', '', tmp[1])\n",
    "    else:\n",
    "        case_note = ''\n",
    "    desc_list = splitContent(tmp[0])\n",
    "    \n",
    "    case_desc = [page_code,]\n",
    "    case_desc.extend(re.split(r'\\s+', desc_list[0]))\n",
    "    case_desc.append(case_note)\n",
    "    case_code = case_desc[1]\n",
    "    \n",
    "    child_case = []\n",
    "    for desc in desc_list[1:]:\n",
    "        tmp = re.split(r':\\s+', desc)\n",
    "        num = tmp[0]\n",
    "        name = tmp[1]\n",
    "        child = [page_code, case_code, num, name]\n",
    "        child_case.append(child)\n",
    "    \n",
    "    return case_desc, child_case"
   ]
  },
  {
   "cell_type": "code",
   "execution_count": 5,
   "metadata": {},
   "outputs": [],
   "source": [
    "def getPageCase(soup):\n",
    "    ''' Analysis all use cases for the page\n",
    "    @param soup: beautiful soup, bs4.BeautifulSoup\n",
    "    '''\n",
    "    base = soup.find('div', id='base')\n",
    "    overview = base.find_all('div', attrs={'data-label': '页面说明'})\n",
    "    normal = base.find_all('div', attrs={'data-label': '普通用例'})\n",
    "    abnormal = base.find_all('div', attrs={'data-label': '异常用例'})\n",
    "    logic = base.find_all('div', attrs={'data-label': '数据逻辑'})\n",
    "    \n",
    "    if overview:\n",
    "        overview_desc = splitContent(overview[0].get_text())\n",
    "        page = re.split(r'\\s+', overview_desc[0])\n",
    "        page.extend(overview_desc[1:])\n",
    "        page_code = page[0]\n",
    "        page_list.append(page)\n",
    "    \n",
    "    if normal:\n",
    "        for case in normal:\n",
    "            case_desc, child_case = getUseCase(page_code, case)\n",
    "            case_desc.append('normal')\n",
    "            case_list.append(case_desc)\n",
    "            child_case_list.extend(child_case)\n",
    "        \n",
    "    if abnormal:\n",
    "        for case in abnormal:\n",
    "            case_desc, child_case = getUseCase(page_code, case)\n",
    "            case_desc.append('abnormal')\n",
    "            case_list.append(case_desc)\n",
    "            child_case_list.extend(child_case)\n",
    "        \n",
    "    if logic:\n",
    "        for case in logic:\n",
    "            case_desc, child_case = getUseCase(page_code, case)\n",
    "            case_desc.append('logic')\n",
    "            case_list.append(case_desc)\n",
    "            child_case_list.extend(child_case)"
   ]
  },
  {
   "cell_type": "code",
   "execution_count": 6,
   "metadata": {},
   "outputs": [],
   "source": [
    "file_list = []\n",
    "ignore_list = ['index.html', 'page1.html', 'page2.html', 'page3.html', 'start.html', 'start_c_1.html', 'start_g_0.html']\n",
    "\n",
    "file_dir = 'F:/profile/iSpider/practica/03_Axure/demo/'\n",
    "file_type = '.html'\n",
    "for file in os.listdir(file_dir):\n",
    "    if file_type in file:\n",
    "        if file not in ignore_list:\n",
    "            file = file_dir + file\n",
    "            file_list.append(file)"
   ]
  },
  {
   "cell_type": "code",
   "execution_count": 7,
   "metadata": {},
   "outputs": [],
   "source": [
    "page_list = []\n",
    "case_list = []\n",
    "child_case_list = []"
   ]
  },
  {
   "cell_type": "code",
   "execution_count": 8,
   "metadata": {},
   "outputs": [],
   "source": [
    "for file in file_list:\n",
    "    getPageCase(openDoc(file))"
   ]
  },
  {
   "cell_type": "code",
   "execution_count": 9,
   "metadata": {},
   "outputs": [
    {
     "data": {
      "text/plain": [
       "[['A-0', '页面名称', '0', '用户场景：进入该页面的场景', '功能描述：页面的功能', '补充说明：需求的补充说明']]"
      ]
     },
     "execution_count": 9,
     "metadata": {},
     "output_type": "execute_result"
    }
   ],
   "source": [
    "page_list"
   ]
  },
  {
   "cell_type": "code",
   "execution_count": 10,
   "metadata": {},
   "outputs": [
    {
     "data": {
      "text/plain": [
       "[['A-0', 'N1', '普通用例名称', '0', '', 'normal'],\n",
       " ['A-0', 'N2', '普通用例名称', '0', ' 这里是备注', 'normal'],\n",
       " ['A-0', 'E1', '异常用例名称', '0', '', 'abnormal'],\n",
       " ['A-0', 'D1', '数据逻辑', '0', '', 'logic']]"
      ]
     },
     "execution_count": 10,
     "metadata": {},
     "output_type": "execute_result"
    }
   ],
   "source": [
    "case_list"
   ]
  },
  {
   "cell_type": "code",
   "execution_count": 11,
   "metadata": {},
   "outputs": [
    {
     "data": {
      "text/plain": [
       "[['A-0', 'N1', 'N1-1', '普通子用例说明'],\n",
       " ['A-0', 'N1', 'N1-2', '普通子用例说明，包括：- 这里是具体的说明- 这里是具体的说明'],\n",
       " ['A-0', 'N1', 'N1-3', '普通子用例说明'],\n",
       " ['A-0', 'N2', 'N2-1', '普通子用例说明'],\n",
       " ['A-0', 'N2', 'N2-2', '普通子用例说明，包括：- 这里是具体的说明- 这里是具体的说明'],\n",
       " ['A-0', 'N2', 'N2-3', '普通子用例说明，普通子用例说明，普通子用例说明'],\n",
       " ['A-0', 'E1', 'E1-1', '异常子用例说明'],\n",
       " ['A-0', 'E1', 'E1-2', '异常子用例说明，包括：- 这里是具体的说明- 这里是具体的说明'],\n",
       " ['A-0', 'D1', 'D1-1', '排序规则'],\n",
       " ['A-0', 'D1', 'D1-2', '状态变更规则'],\n",
       " ['A-0', 'D1', 'D1-3', '字段说明，包括：- 这里是具体说明- 这里是具体说明']]"
      ]
     },
     "execution_count": 11,
     "metadata": {},
     "output_type": "execute_result"
    }
   ],
   "source": [
    "child_case_list"
   ]
  },
  {
   "cell_type": "code",
   "execution_count": null,
   "metadata": {},
   "outputs": [],
   "source": []
  }
 ],
 "metadata": {
  "hide_input": false,
  "kernelspec": {
   "display_name": "Python 3",
   "language": "python",
   "name": "python3"
  },
  "language_info": {
   "codemirror_mode": {
    "name": "ipython",
    "version": 3
   },
   "file_extension": ".py",
   "mimetype": "text/x-python",
   "name": "python",
   "nbconvert_exporter": "python",
   "pygments_lexer": "ipython3",
   "version": "3.7.1"
  }
 },
 "nbformat": 4,
 "nbformat_minor": 2
}

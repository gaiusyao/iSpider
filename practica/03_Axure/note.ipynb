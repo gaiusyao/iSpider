{
 "cells": [
  {
   "cell_type": "code",
   "execution_count": 1,
   "metadata": {},
   "outputs": [],
   "source": [
    "import os\n",
    "import re\n",
    "import sqlite3\n",
    "import pandas as pd\n",
    "from bs4 import BeautifulSoup"
   ]
  },
  {
   "cell_type": "code",
   "execution_count": 2,
   "metadata": {},
   "outputs": [],
   "source": [
    "def openDoc(file):\n",
    "    ''' Open the HTML document\n",
    "    @param file: file_path, str\n",
    "    @return soup: beautiful soup, bs4.BeautifulSoup\n",
    "    '''\n",
    "    htmldoc = open(file, 'r', encoding='utf-8')\n",
    "    htmlhandle = htmldoc.read()\n",
    "    soup = BeautifulSoup(htmlhandle, 'lxml')\n",
    "    htmldoc.close()\n",
    "    return soup"
   ]
  },
  {
   "cell_type": "code",
   "execution_count": 3,
   "metadata": {},
   "outputs": [],
   "source": [
    "def splitContent(case_content):\n",
    "    ''' Split Use Case Contents\n",
    "    @param case_content: use case contents, str\n",
    "    @return desc_list: use case description, list\n",
    "    '''\n",
    "    text = re.sub(r'[\\n\\xa0]', '', case_content)\n",
    "    desc_list = re.split(r'\\x95\\s+', text)\n",
    "    return desc_list"
   ]
  },
  {
   "cell_type": "code",
   "execution_count": 4,
   "metadata": {},
   "outputs": [],
   "source": [
    "def getUseCase(page_code, use_case):\n",
    "    ''' Analysis Use Case Contents\n",
    "    @param page_code: page code, str\n",
    "    @param use_case: use case, bs4.element.Tag\n",
    "    @return case_desc: use case desc, list\n",
    "    @return child_case: child use case, list\n",
    "    '''\n",
    "    case_content = use_case.get_text()\n",
    "    tmp = re.split(r'#', case_content)\n",
    "    if len(tmp) > 1:\n",
    "        case_note = re.sub(r'[\\n\\xa0]', '', tmp[1])\n",
    "    else:\n",
    "        case_note = ''\n",
    "    desc_list = splitContent(tmp[0])\n",
    "    \n",
    "    case_desc = [page_code,]\n",
    "    case_desc.extend(re.split(r'\\s+', desc_list[0]))\n",
    "    case_desc.append(case_note)\n",
    "    case_code = case_desc[1]\n",
    "    \n",
    "    child_case = []\n",
    "    for desc in desc_list[1:]:\n",
    "        tmp = re.split(r':\\s+', desc)\n",
    "        num = tmp[0]\n",
    "        name = tmp[1]\n",
    "        child = [page_code, case_code, num, name]\n",
    "        child_case.append(child)\n",
    "    \n",
    "    return case_desc, child_case"
   ]
  },
  {
   "cell_type": "code",
   "execution_count": 5,
   "metadata": {},
   "outputs": [],
   "source": [
    "def getPageCase(soup):\n",
    "    ''' Analysis all use cases for the page\n",
    "    @param soup: beautiful soup, bs4.BeautifulSoup\n",
    "    '''\n",
    "    base = soup.find('div', id='base')\n",
    "    overview = base.find_all('div', attrs={'data-label': '页面说明'})\n",
    "    normal = base.find_all('div', attrs={'data-label': '普通用例'})\n",
    "    abnormal = base.find_all('div', attrs={'data-label': '异常用例'})\n",
    "    logic = base.find_all('div', attrs={'data-label': '数据逻辑'})\n",
    "    \n",
    "    if overview:\n",
    "        overview_desc = splitContent(overview[0].get_text())\n",
    "        page = re.split(r'\\s+', overview_desc[0])\n",
    "        page.extend(overview_desc[1:])\n",
    "        page_code = page[0]\n",
    "        page_list.append(page)\n",
    "    \n",
    "    if normal:\n",
    "        for case in normal:\n",
    "            case_desc, child_case = getUseCase(page_code, case)\n",
    "            case_desc.append('normal')\n",
    "            case_list.append(case_desc)\n",
    "            child_case_list.extend(child_case)\n",
    "        \n",
    "    if abnormal:\n",
    "        for case in abnormal:\n",
    "            case_desc, child_case = getUseCase(page_code, case)\n",
    "            case_desc.append('abnormal')\n",
    "            case_list.append(case_desc)\n",
    "            child_case_list.extend(child_case)\n",
    "        \n",
    "    if logic:\n",
    "        for case in logic:\n",
    "            case_desc, child_case = getUseCase(page_code, case)\n",
    "            case_desc.append('logic')\n",
    "            case_list.append(case_desc)\n",
    "            child_case_list.extend(child_case)"
   ]
  },
  {
   "cell_type": "code",
   "execution_count": 6,
   "metadata": {},
   "outputs": [],
   "source": [
    "file_list = []\n",
    "ignore_list = ['index.html', 'page1.html', 'page2.html', 'page3.html', 'start.html', 'start_c_1.html', 'start_g_0.html']\n",
    "\n",
    "file_dir = 'F:/profile/iSpider/practica/03_Axure/demo/'\n",
    "file_type = '.html'\n",
    "for file in os.listdir(file_dir):\n",
    "    if file_type in file:\n",
    "        if file not in ignore_list:\n",
    "            file = file_dir + file\n",
    "            file_list.append(file)"
   ]
  },
  {
   "cell_type": "code",
   "execution_count": 7,
   "metadata": {},
   "outputs": [],
   "source": [
    "page_list = []\n",
    "case_list = []\n",
    "child_case_list = []"
   ]
  },
  {
   "cell_type": "code",
   "execution_count": 8,
   "metadata": {},
   "outputs": [],
   "source": [
    "for file in file_list:\n",
    "    getPageCase(openDoc(file))"
   ]
  },
  {
   "cell_type": "code",
   "execution_count": 9,
   "metadata": {},
   "outputs": [
    {
     "data": {
      "text/plain": [
       "[['A-0', '页面名称', '0', '用户场景：用户进入该页面的场景', '功能描述：页面的功能', '补充说明：需求的补充说明']]"
      ]
     },
     "execution_count": 9,
     "metadata": {},
     "output_type": "execute_result"
    }
   ],
   "source": [
    "page_list"
   ]
  },
  {
   "cell_type": "code",
   "execution_count": 10,
   "metadata": {},
   "outputs": [
    {
     "data": {
      "text/plain": [
       "[['A-0', 'N1', '普通用例名称', '0', '', 'normal'],\n",
       " ['A-0', 'N2', '普通用例名称', '0', ' 这里是备注', 'normal'],\n",
       " ['A-0', 'E1', '异常用例名称', '0', '', 'abnormal'],\n",
       " ['A-0', 'D1', '数据逻辑', '0', '', 'logic']]"
      ]
     },
     "execution_count": 10,
     "metadata": {},
     "output_type": "execute_result"
    }
   ],
   "source": [
    "case_list"
   ]
  },
  {
   "cell_type": "code",
   "execution_count": 11,
   "metadata": {},
   "outputs": [
    {
     "data": {
      "text/plain": [
       "[['A-0', 'N1', 'N1-1', '普通子用例说明'],\n",
       " ['A-0', 'N1', 'N1-2', '普通子用例说明，包括：- 这里是具体的说明- 这里是具体的说明'],\n",
       " ['A-0', 'N1', 'N1-3', '普通子用例说明'],\n",
       " ['A-0', 'N2', 'N2-1', '普通子用例说明'],\n",
       " ['A-0', 'N2', 'N2-2', '普通子用例说明，包括：- 这里是具体的说明- 这里是具体的说明'],\n",
       " ['A-0', 'N2', 'N2-3', '普通子用例说明，普通子用例说明，普通子用例说明'],\n",
       " ['A-0', 'E1', 'E1-1', '异常子用例说明'],\n",
       " ['A-0', 'E1', 'E1-2', '异常子用例说明，包括：- 这里是具体的说明- 这里是具体的说明'],\n",
       " ['A-0', 'D1', 'D1-1', '排序规则'],\n",
       " ['A-0', 'D1', 'D1-2', '状态变更规则'],\n",
       " ['A-0', 'D1', 'D1-3', '字段说明，包括：- 这里是具体说明- 这里是具体说明']]"
      ]
     },
     "execution_count": 11,
     "metadata": {},
     "output_type": "execute_result"
    }
   ],
   "source": [
    "child_case_list"
   ]
  },
  {
   "cell_type": "code",
   "execution_count": 12,
   "metadata": {},
   "outputs": [],
   "source": [
    "page_df = pd.DataFrame(page_list, columns=['page_code', 'page_name', 'page_release', 'scene', 'page_desc', 'page_note'])\n",
    "case_df = pd.DataFrame(case_list, columns=['page_code', 'case_code', 'case_name', 'case_release', 'case_note', 'case_type'])\n",
    "child_case_df = pd.DataFrame(child_case_list, columns=['page_code', 'case_code', 'child_case_code', 'child_case_desc'])"
   ]
  },
  {
   "cell_type": "code",
   "execution_count": 13,
   "metadata": {},
   "outputs": [],
   "source": [
    "# 查看表信息\n",
    "def showTableInfo(db, table):\n",
    "    ''' Show columns from table\n",
    "    @param db: database name, str\n",
    "    @param table: table name, str\n",
    "    @return df: table structure, DataFrame\n",
    "    '''\n",
    "    conn = sqlite3.connect(db)\n",
    "    df = pd.read_sql('PRAGMA table_info(%s)' % table, con=conn)\n",
    "    return df"
   ]
  },
  {
   "cell_type": "code",
   "execution_count": 14,
   "metadata": {},
   "outputs": [],
   "source": [
    "# 对数据库进行提交操作\n",
    "def commit_sql(db, sql):\n",
    "    ''' Save changes to the database\n",
    "    @param db: database name, str\n",
    "    @param sql: sql statement, str\n",
    "    '''\n",
    "    conn = sqlite3.connect(db)\n",
    "    \n",
    "    cursor = conn.cursor() #创建 Cursor\n",
    "    cursor.execute(sql)\n",
    "    cursor.close()\n",
    "    \n",
    "    conn.commit()\n",
    "    conn.close()\n",
    "    \n",
    "    print(\"提交成功\")"
   ]
  },
  {
   "cell_type": "code",
   "execution_count": 15,
   "metadata": {},
   "outputs": [],
   "source": [
    "import sqlite3\n",
    "db = 'axure.db'\n",
    "conn = sqlite3.connect(db)"
   ]
  },
  {
   "cell_type": "code",
   "execution_count": 16,
   "metadata": {},
   "outputs": [
    {
     "name": "stdout",
     "output_type": "stream",
     "text": [
      "提交成功\n",
      "提交成功\n",
      "提交成功\n"
     ]
    }
   ],
   "source": [
    "# 创建  page 表\n",
    "create_page = '''\n",
    "    CREATE TABLE page (\n",
    "        page_id INTEGER PRIMARY KEY AUTOINCREMENT, --自增主键\n",
    "        page_code VARCHAR(16), \n",
    "        page_name VARCHAR(32),\n",
    "        page_release VARCHAR(8),\n",
    "        scene TEXT,\n",
    "        page_desc TEXT, \n",
    "        page_note TEXT\n",
    "    )'''\n",
    "commit_sql(db, create_page)\n",
    "\n",
    "# 创建  use_case 表\n",
    "create_case = '''\n",
    "    CREATE TABLE use_case (\n",
    "        case_id INTEGER PRIMARY KEY AUTOINCREMENT, --自增主键\n",
    "        page_code VARCHAR(16), \n",
    "        case_code VARCHAR(16),\n",
    "        case_name VARCHAR(32),\n",
    "        case_release VARCHAR(8),\n",
    "        case_note TEXT,\n",
    "        case_type VARCHAR(8)\n",
    "    )'''\n",
    "commit_sql(db, create_case)\n",
    "\n",
    "# 创建 child_case 表\n",
    "create_child_case = '''\n",
    "    CREATE TABLE child_case (\n",
    "        child_case_id INTEGER PRIMARY KEY AUTOINCREMENT, --自增主键\n",
    "        page_code VARCHAR(16), \n",
    "        case_code VARCHAR(16),\n",
    "        child_case_code VARCHAR(16),\n",
    "        child_case_desc TEXT\n",
    "    )'''\n",
    "commit_sql(db, create_child_case)"
   ]
  },
  {
   "cell_type": "code",
   "execution_count": 17,
   "metadata": {},
   "outputs": [
    {
     "data": {
      "text/html": [
       "<div>\n",
       "<style scoped>\n",
       "    .dataframe tbody tr th:only-of-type {\n",
       "        vertical-align: middle;\n",
       "    }\n",
       "\n",
       "    .dataframe tbody tr th {\n",
       "        vertical-align: top;\n",
       "    }\n",
       "\n",
       "    .dataframe thead th {\n",
       "        text-align: right;\n",
       "    }\n",
       "</style>\n",
       "<table border=\"1\" class=\"dataframe\">\n",
       "  <thead>\n",
       "    <tr style=\"text-align: right;\">\n",
       "      <th></th>\n",
       "      <th>cid</th>\n",
       "      <th>name</th>\n",
       "      <th>type</th>\n",
       "      <th>notnull</th>\n",
       "      <th>dflt_value</th>\n",
       "      <th>pk</th>\n",
       "    </tr>\n",
       "  </thead>\n",
       "  <tbody>\n",
       "    <tr>\n",
       "      <th>0</th>\n",
       "      <td>0</td>\n",
       "      <td>page_id</td>\n",
       "      <td>INTEGER</td>\n",
       "      <td>0</td>\n",
       "      <td>None</td>\n",
       "      <td>1</td>\n",
       "    </tr>\n",
       "    <tr>\n",
       "      <th>1</th>\n",
       "      <td>1</td>\n",
       "      <td>page_code</td>\n",
       "      <td>VARCHAR(16)</td>\n",
       "      <td>0</td>\n",
       "      <td>None</td>\n",
       "      <td>0</td>\n",
       "    </tr>\n",
       "    <tr>\n",
       "      <th>2</th>\n",
       "      <td>2</td>\n",
       "      <td>page_name</td>\n",
       "      <td>VARCHAR(32)</td>\n",
       "      <td>0</td>\n",
       "      <td>None</td>\n",
       "      <td>0</td>\n",
       "    </tr>\n",
       "    <tr>\n",
       "      <th>3</th>\n",
       "      <td>3</td>\n",
       "      <td>page_release</td>\n",
       "      <td>VARCHAR(8)</td>\n",
       "      <td>0</td>\n",
       "      <td>None</td>\n",
       "      <td>0</td>\n",
       "    </tr>\n",
       "    <tr>\n",
       "      <th>4</th>\n",
       "      <td>4</td>\n",
       "      <td>scene</td>\n",
       "      <td>TEXT</td>\n",
       "      <td>0</td>\n",
       "      <td>None</td>\n",
       "      <td>0</td>\n",
       "    </tr>\n",
       "    <tr>\n",
       "      <th>5</th>\n",
       "      <td>5</td>\n",
       "      <td>page_desc</td>\n",
       "      <td>TEXT</td>\n",
       "      <td>0</td>\n",
       "      <td>None</td>\n",
       "      <td>0</td>\n",
       "    </tr>\n",
       "    <tr>\n",
       "      <th>6</th>\n",
       "      <td>6</td>\n",
       "      <td>page_note</td>\n",
       "      <td>TEXT</td>\n",
       "      <td>0</td>\n",
       "      <td>None</td>\n",
       "      <td>0</td>\n",
       "    </tr>\n",
       "  </tbody>\n",
       "</table>\n",
       "</div>"
      ],
      "text/plain": [
       "   cid          name         type  notnull dflt_value  pk\n",
       "0    0       page_id      INTEGER        0       None   1\n",
       "1    1     page_code  VARCHAR(16)        0       None   0\n",
       "2    2     page_name  VARCHAR(32)        0       None   0\n",
       "3    3  page_release   VARCHAR(8)        0       None   0\n",
       "4    4         scene         TEXT        0       None   0\n",
       "5    5     page_desc         TEXT        0       None   0\n",
       "6    6     page_note         TEXT        0       None   0"
      ]
     },
     "execution_count": 17,
     "metadata": {},
     "output_type": "execute_result"
    }
   ],
   "source": [
    "showTableInfo(db, 'page')"
   ]
  },
  {
   "cell_type": "code",
   "execution_count": 18,
   "metadata": {},
   "outputs": [],
   "source": [
    "page_df.to_sql(name='page', con=conn, if_exists='append', index=False)\n",
    "case_df.to_sql(name='use_case', con=conn, if_exists='append', index=False)\n",
    "child_case_df.to_sql(name='child_case', con=conn, if_exists='append', index=False)"
   ]
  }
 ],
 "metadata": {
  "hide_input": false,
  "kernelspec": {
   "display_name": "Python 3",
   "language": "python",
   "name": "python3"
  },
  "language_info": {
   "codemirror_mode": {
    "name": "ipython",
    "version": 3
   },
   "file_extension": ".py",
   "mimetype": "text/x-python",
   "name": "python",
   "nbconvert_exporter": "python",
   "pygments_lexer": "ipython3",
   "version": "3.7.1"
  }
 },
 "nbformat": 4,
 "nbformat_minor": 2
}

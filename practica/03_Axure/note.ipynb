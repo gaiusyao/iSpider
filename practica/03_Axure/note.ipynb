{
 "cells": [
  {
   "cell_type": "code",
   "execution_count": 1,
   "metadata": {},
   "outputs": [],
   "source": [
    "import os\n",
    "import re\n",
    "import sqlite3\n",
    "import pandas as pd\n",
    "from bs4 import BeautifulSoup"
   ]
  },
  {
   "cell_type": "code",
   "execution_count": 37,
   "metadata": {},
   "outputs": [],
   "source": [
    "def openDoc(file):\n",
    "    '''  Open the HTML document\n",
    "    @param file: file_path, str\n",
    "    @return soup: beautiful soup, bs4.BeautifulSoup\n",
    "    '''\n",
    "    htmldoc = open(file, 'r', encoding='utf-8')\n",
    "    htmlhandle = htmldoc.read()\n",
    "    soup = BeautifulSoup(htmlhandle, 'lxml')\n",
    "    htmldoc.close()\n",
    "    return soup"
   ]
  },
  {
   "cell_type": "code",
   "execution_count": 5,
   "metadata": {},
   "outputs": [],
   "source": [
    "def splitContent(use_case):\n",
    "    ''' Split Use Case Contents\n",
    "    @param use_case: use case, bs4.element.Tag\n",
    "    @return desc_list: use case description, list\n",
    "    '''\n",
    "    text = re.sub(r'[\\n\\xa0]', '', use_case.get_text())\n",
    "    desc_list = re.split(r'\\x95\\s+', text)\n",
    "    return desc_list"
   ]
  },
  {
   "cell_type": "code",
   "execution_count": 6,
   "metadata": {},
   "outputs": [],
   "source": [
    "def getUseCase(use_case):\n",
    "    ''' Analysis Use Case Contents\n",
    "    @param use_case: use case, bs4.element.Tag\n",
    "    @return case_info: use case info, list\n",
    "    @return child_case: child use case, list\n",
    "    '''\n",
    "    desc_list = splitContent(use_case)\n",
    "    \n",
    "    case_info = [page_code,]\n",
    "    case_info.extend(re.split(r'\\s+', desc_list[0]))\n",
    "    case_code = case_info[1]\n",
    "    \n",
    "    child_case = []\n",
    "    for desc in desc_list[1:]:\n",
    "        tmp = re.split(r':\\s+', desc)\n",
    "        num = tmp[0]\n",
    "        name = tmp[1]\n",
    "        child = [page_code, case_code, num, name]\n",
    "        child_case.append(child)\n",
    "    \n",
    "    return case_info, child_case"
   ]
  },
  {
   "cell_type": "code",
   "execution_count": null,
   "metadata": {},
   "outputs": [],
   "source": [
    "def getPageCase(page):\n",
    "    ''' Analysis all use cases for the page\n",
    "    @param page: page soup, bs4.BeautifulSoup\n",
    "    '''\n",
    "    "
   ]
  },
  {
   "cell_type": "code",
   "execution_count": 34,
   "metadata": {},
   "outputs": [],
   "source": [
    "file_list = []\n",
    "ignore_list = ['index.html', 'page1.html', 'page2.html', 'page3.html', 'start.html', 'start_c_1.html', 'start_g_0.html']\n",
    "\n",
    "file_dir = 'F:/profile/iSpider/practica/03_Axure/demo/'\n",
    "file_type = '.html'\n",
    "for file in os.listdir(file_dir):\n",
    "    if file_type in file:\n",
    "        if file not in ignore_list:\n",
    "            file_list.append(file)"
   ]
  },
  {
   "cell_type": "code",
   "execution_count": 38,
   "metadata": {},
   "outputs": [
    {
     "name": "stdout",
     "output_type": "stream",
     "text": [
      "a-0_一级页面1_0.html\n",
      "a-1-1-1_____1_0_1.html\n",
      "a-1-1-2_____2_0_1.html\n",
      "a-1-1_二级页面1_0.html\n",
      "a-1-1_二级页面2_0_1.html\n",
      "a-1-1_二级页面3_0_1.html\n",
      "a-2-1_二级页面4_0.html\n",
      "b-0_一级页面3_0_2.html\n",
      "b-1-1-1_____3_0_2.html\n",
      "b-1-1-2_____4_0_2.html\n",
      "b-1-1_二级页面5_0_2.html\n",
      "b-1-2-1_____5_0_2.html\n",
      "b-1-2_二级页面6_0_2.html\n"
     ]
    }
   ],
   "source": [
    "for file in file_list:\n",
    "    print(file)"
   ]
  },
  {
   "cell_type": "code",
   "execution_count": 8,
   "metadata": {},
   "outputs": [],
   "source": [
    "page_list = []\n",
    "case_list = []\n",
    "child_case_list = []"
   ]
  },
  {
   "cell_type": "code",
   "execution_count": 4,
   "metadata": {},
   "outputs": [],
   "source": [
    "base = soup.find('div', id='base')\n",
    "\n",
    "overview = base.find_all('div', attrs={'data-label': '页面说明'})\n",
    "normal = base.find_all('div', attrs={'data-label': '普通用例'})\n",
    "abnormal = base.find_all('div', attrs={'data-label': '异常用例'})\n",
    "logic = base.find_all('div', attrs={'data-label': '数据逻辑'})"
   ]
  },
  {
   "cell_type": "code",
   "execution_count": 7,
   "metadata": {},
   "outputs": [],
   "source": [
    "overview_desc = splitContent(overview[0])\n",
    "\n",
    "page = re.split(r'\\s+', overview_desc[0])\n",
    "page.extend(overview_desc[1:])\n",
    "page_code = page[0]"
   ]
  },
  {
   "cell_type": "code",
   "execution_count": 13,
   "metadata": {},
   "outputs": [],
   "source": [
    "if normal:\n",
    "    for i in normal:\n",
    "        case_info, child_case = getUseCase(i)\n",
    "        case_info.append('normal')\n",
    "        case_list.append(case_info)\n",
    "        child_case_list.extend(child_case)"
   ]
  },
  {
   "cell_type": "code",
   "execution_count": null,
   "metadata": {},
   "outputs": [],
   "source": [
    "if abnormal:\n",
    "    for i in abnormal:\n",
    "        case_info, child_case = getUseCase(i)\n",
    "        case_info.append('abnormal')\n",
    "        case_list.append(case_info)\n",
    "        child_case_list.extend(child_case)"
   ]
  },
  {
   "cell_type": "code",
   "execution_count": null,
   "metadata": {},
   "outputs": [],
   "source": [
    "if logic:\n",
    "    for i in logic:\n",
    "        case_info, child_case = getUseCase(i)\n",
    "        case_info.append('logic')\n",
    "        case_list.append(case_info)\n",
    "        child_case_list.extend(child_case)"
   ]
  },
  {
   "cell_type": "code",
   "execution_count": 11,
   "metadata": {},
   "outputs": [
    {
     "data": {
      "text/plain": [
       "[['A-0', 'N1', 'N1-1', '普通子用例说明'],\n",
       " ['A-0', 'N1', 'N1-2', '普通子用例说明，包括：- 这里是具体的说明- 这里是具体的说明'],\n",
       " ['A-0', 'N1', 'N1-3', '普通子用例说明'],\n",
       " ['A-0', 'N2', 'N2-1', '普通子用例说明'],\n",
       " ['A-0', 'N2', 'N2-2', '普通子用例说明，包括：- 这里是具体的说明- 这里是具体的说明'],\n",
       " ['A-0', 'N2', 'N2-3', '普通子用例说明，普通子用例说明，普通子用例说明']]"
      ]
     },
     "execution_count": 11,
     "metadata": {},
     "output_type": "execute_result"
    }
   ],
   "source": [
    "child_case_list"
   ]
  },
  {
   "cell_type": "code",
   "execution_count": 35,
   "metadata": {},
   "outputs": [
    {
     "data": {
      "text/plain": [
       "['a-0_一级页面1_0.html',\n",
       " 'a-1-1-1_____1_0_1.html',\n",
       " 'a-1-1-2_____2_0_1.html',\n",
       " 'a-1-1_二级页面1_0.html',\n",
       " 'a-1-1_二级页面2_0_1.html',\n",
       " 'a-1-1_二级页面3_0_1.html',\n",
       " 'a-2-1_二级页面4_0.html',\n",
       " 'b-0_一级页面3_0_2.html',\n",
       " 'b-1-1-1_____3_0_2.html',\n",
       " 'b-1-1-2_____4_0_2.html',\n",
       " 'b-1-1_二级页面5_0_2.html',\n",
       " 'b-1-2-1_____5_0_2.html',\n",
       " 'b-1-2_二级页面6_0_2.html']"
      ]
     },
     "execution_count": 35,
     "metadata": {},
     "output_type": "execute_result"
    }
   ],
   "source": [
    "file_list"
   ]
  },
  {
   "cell_type": "code",
   "execution_count": null,
   "metadata": {},
   "outputs": [],
   "source": []
  }
 ],
 "metadata": {
  "hide_input": false,
  "kernelspec": {
   "display_name": "Python 3",
   "language": "python",
   "name": "python3"
  },
  "language_info": {
   "codemirror_mode": {
    "name": "ipython",
    "version": 3
   },
   "file_extension": ".py",
   "mimetype": "text/x-python",
   "name": "python",
   "nbconvert_exporter": "python",
   "pygments_lexer": "ipython3",
   "version": "3.7.1"
  }
 },
 "nbformat": 4,
 "nbformat_minor": 2
}

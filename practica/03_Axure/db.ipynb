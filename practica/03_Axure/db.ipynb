{
 "cells": [
  {
   "cell_type": "code",
   "execution_count": 1,
   "metadata": {},
   "outputs": [],
   "source": [
    "import sqlite3\n",
    "import pandas as pd"
   ]
  },
  {
   "cell_type": "code",
   "execution_count": 2,
   "metadata": {},
   "outputs": [],
   "source": [
    "def commit_sql(db, sql):\n",
    "    ''' 将所做的修改保存到数据库\n",
    "    @param db: database name, str\n",
    "    @param sql: sql statement, str\n",
    "    '''\n",
    "    conn = sqlite3.connect(db + '.db')\n",
    "    \n",
    "    cursor = conn.cursor() #创建 Cursor\n",
    "    cursor.execute(sql)\n",
    "    cursor.close()\n",
    "    \n",
    "    conn.commit()\n",
    "    conn.close()\n",
    "    \n",
    "    print('提交成功')"
   ]
  },
  {
   "cell_type": "code",
   "execution_count": null,
   "metadata": {},
   "outputs": [],
   "source": [
    "# 表名：\n",
    "# 字段：\n",
    "create_page = '''\n",
    "    CREATE TABLE page (\n",
    "        page_id INTEGER PRIMARY KEY AUTOINCREMENT, --自增主键\n",
    "        title VARCHAR(255), --文章标题\n",
    "        date TEXT, --日期，格式YYYY-MM-DD\n",
    "        vol INTEGER, --卷次\n",
    "        period VARCHAR(40), --时期\n",
    "        intro TEXT, --文章介绍\n",
    "        content TEXT, --文章内容\n",
    "        anno TEXT --文章注释\n",
    "    )'''\n",
    "\n",
    "#commit_sql('axure', create_page)"
   ]
  },
  {
   "cell_type": "code",
   "execution_count": null,
   "metadata": {},
   "outputs": [],
   "source": [
    "# 查询表\n",
    "query = '''\n",
    "    SELECT *\n",
    "    FROM\n",
    "    WHERE\n",
    "'''\n",
    "\n",
    "df = pd.read_sql(query, con=sqlite3.connect('axure.db'))\n",
    "print(df.info())\n",
    "df.sample(10)"
   ]
  }
 ],
 "metadata": {
  "hide_input": false,
  "kernelspec": {
   "display_name": "Python 3",
   "language": "python",
   "name": "python3"
  },
  "language_info": {
   "codemirror_mode": {
    "name": "ipython",
    "version": 3
   },
   "file_extension": ".py",
   "mimetype": "text/x-python",
   "name": "python",
   "nbconvert_exporter": "python",
   "pygments_lexer": "ipython3",
   "version": "3.7.1"
  }
 },
 "nbformat": 4,
 "nbformat_minor": 2
}
